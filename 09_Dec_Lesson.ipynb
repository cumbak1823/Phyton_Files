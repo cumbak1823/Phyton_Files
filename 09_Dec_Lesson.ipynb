{
  "nbformat": 4,
  "nbformat_minor": 0,
  "metadata": {
    "colab": {
      "name": "09_Dec_Lesson.ipynb",
      "provenance": [],
      "authorship_tag": "ABX9TyMff0do+9+opsgVr1cs2KWV",
      "include_colab_link": true
    },
    "kernelspec": {
      "name": "python3",
      "display_name": "Python 3"
    },
    "language_info": {
      "name": "python"
    }
  },
  "cells": [
    {
      "cell_type": "markdown",
      "metadata": {
        "id": "view-in-github",
        "colab_type": "text"
      },
      "source": [
        "<a href=\"https://colab.research.google.com/github/cumbak1823/Phyton_Files/blob/master/09_Dec_Lesson.ipynb\" target=\"_parent\"><img src=\"https://colab.research.google.com/assets/colab-badge.svg\" alt=\"Open In Colab\"/></a>"
      ]
    },
    {
      "cell_type": "code",
      "execution_count": 7,
      "metadata": {
        "id": "vZG9UNnIXd5O"
      },
      "outputs": [],
      "source": [
        "command = ['right 20', 'right 30', 'left 50', 'up 10', 'down 20']"
      ]
    },
    {
      "cell_type": "code",
      "source": [
        "print(command)"
      ],
      "metadata": {
        "colab": {
          "base_uri": "https://localhost:8080/"
        },
        "id": "dymu7XwUcyCY",
        "outputId": "f8cfc351-729f-46df-d316-ecbf67bcdc15"
      },
      "execution_count": 8,
      "outputs": [
        {
          "output_type": "stream",
          "name": "stdout",
          "text": [
            "['right 20', 'right 30', 'left 50', 'up 10', 'down 20']\n"
          ]
        }
      ]
    },
    {
      "cell_type": "code",
      "source": [
        "for i in command:\n",
        "  right = 0\n",
        "  left = 0\n",
        "  up = 0\n",
        "  down = 0 \n",
        "  if i[0] == 'right':\n",
        "    right = right+i[1]\n",
        "  elif i[0] == 'left':\n",
        "    left = left + i[1]\n",
        "  elif i[0] == 'up':\n",
        "    up +=i[1]\n",
        "  elif i[0] == 'down':\n",
        "    down = down + int(i[1])\n",
        "  x = right - left\n",
        "  y = up - down\n",
        "\n",
        "print(x,y)  "
      ],
      "metadata": {
        "colab": {
          "base_uri": "https://localhost:8080/"
        },
        "id": "QOVjAFrjc-cV",
        "outputId": "6712ae4b-f353-4641-81b2-b47838b00c25"
      },
      "execution_count": 21,
      "outputs": [
        {
          "output_type": "stream",
          "name": "stdout",
          "text": [
            "0 0\n"
          ]
        }
      ]
    },
    {
      "cell_type": "code",
      "source": [
        "command[0].split()"
      ],
      "metadata": {
        "colab": {
          "base_uri": "https://localhost:8080/"
        },
        "id": "9Vv1pu3gfOf1",
        "outputId": "95d9dc29-9075-4b0c-f9e3-55009eba194a"
      },
      "execution_count": 13,
      "outputs": [
        {
          "output_type": "execute_result",
          "data": {
            "text/plain": [
              "['right', '20']"
            ]
          },
          "metadata": {},
          "execution_count": 13
        }
      ]
    },
    {
      "cell_type": "code",
      "source": [
        "command[0].split()[1]"
      ],
      "metadata": {
        "colab": {
          "base_uri": "https://localhost:8080/",
          "height": 35
        },
        "id": "NWRfp_39fldE",
        "outputId": "cc2b5602-18e6-4692-fa2b-55a04ca17cf7"
      },
      "execution_count": 14,
      "outputs": [
        {
          "output_type": "execute_result",
          "data": {
            "application/vnd.google.colaboratory.intrinsic+json": {
              "type": "string"
            },
            "text/plain": [
              "'20'"
            ]
          },
          "metadata": {},
          "execution_count": 14
        }
      ]
    },
    {
      "cell_type": "code",
      "source": [
        "int(command[0].split()[1])"
      ],
      "metadata": {
        "colab": {
          "base_uri": "https://localhost:8080/"
        },
        "id": "VLyBl-a_fr5i",
        "outputId": "f655bc48-e6ad-4241-83c8-7476540573e5"
      },
      "execution_count": 15,
      "outputs": [
        {
          "output_type": "execute_result",
          "data": {
            "text/plain": [
              "20"
            ]
          },
          "metadata": {},
          "execution_count": 15
        }
      ]
    },
    {
      "cell_type": "code",
      "source": [
        "x = 0\n",
        "y = 0 \n",
        "for i in range(len(command)):\n",
        "  if command[i].startswith('r') : x = x + int(command[i].split()[1])\n",
        "  elif command[i].startswith('l') : x = x - int(command[i].split()[1])\n",
        "  elif command[i].startswith('u') : y = y + int(command[i].split()[1])\n",
        "  elif command[i].startswith('u') : y = y - int(command[i].split()[1])\n",
        "\n",
        "print([x,y])"
      ],
      "metadata": {
        "colab": {
          "base_uri": "https://localhost:8080/"
        },
        "id": "ndQV_wKyf7Nz",
        "outputId": "33d4004b-e696-4897-815d-48eabdd14a0d"
      },
      "execution_count": 20,
      "outputs": [
        {
          "output_type": "stream",
          "name": "stdout",
          "text": [
            "[0, 10]\n"
          ]
        }
      ]
    },
    {
      "cell_type": "code",
      "source": [
        ""
      ],
      "metadata": {
        "id": "UGKDVGUshnnG"
      },
      "execution_count": null,
      "outputs": []
    },
    {
      "cell_type": "code",
      "source": [
        "### MY SOLUTION####\n",
        "command = ['right 40', 'right 30', 'left 50', 'up 30', 'down 10']\n",
        "x = 0\n",
        "y = 0\n",
        "for i in range(len(command)):\n",
        "  if command[i].split()[0] == 'right':\n",
        "    x = x+int(command[i].split()[1])\n",
        "  elif command[i].split()[0] == 'left':\n",
        "    x = x-int(command[i].split()[1])\n",
        "  elif command[i].split()[0] == 'up':\n",
        "    y = y+int(command[i].split()[1])\n",
        "  elif command[i].split()[0] == 'down':\n",
        "    y = y-int(command[i].split()[1])    \n",
        "print(x,y)"
      ],
      "metadata": {
        "colab": {
          "base_uri": "https://localhost:8080/"
        },
        "id": "TXmx-Y3HhowM",
        "outputId": "82fbc08c-83e4-4578-a58e-4cc1c6f56239"
      },
      "execution_count": 80,
      "outputs": [
        {
          "output_type": "stream",
          "name": "stdout",
          "text": [
            "20 20\n"
          ]
        }
      ]
    },
    {
      "cell_type": "code",
      "source": [
        "x = \"[([{({})}]({}))\""
      ],
      "metadata": {
        "id": "OlSsAg_pmYNl"
      },
      "execution_count": 50,
      "outputs": []
    },
    {
      "cell_type": "code",
      "source": [
        "\"ali-deli-veli\".replace(\"-\",\"\")"
      ],
      "metadata": {
        "colab": {
          "base_uri": "https://localhost:8080/",
          "height": 35
        },
        "id": "j9Do79v9nZ2l",
        "outputId": "250784f1-e4c3-4602-ff6c-1af08be5ee64"
      },
      "execution_count": 52,
      "outputs": [
        {
          "output_type": "execute_result",
          "data": {
            "application/vnd.google.colaboratory.intrinsic+json": {
              "type": "string"
            },
            "text/plain": [
              "'alideliveli'"
            ]
          },
          "metadata": {},
          "execution_count": 52
        }
      ]
    },
    {
      "cell_type": "code",
      "source": [
        "\"ali-deli-veli\".replace(\"-\",\"+\")"
      ],
      "metadata": {
        "colab": {
          "base_uri": "https://localhost:8080/",
          "height": 35
        },
        "id": "MPU-5jUwn-J_",
        "outputId": "91be869f-d0d2-4164-f712-25411cf1c300"
      },
      "execution_count": 53,
      "outputs": [
        {
          "output_type": "execute_result",
          "data": {
            "application/vnd.google.colaboratory.intrinsic+json": {
              "type": "string"
            },
            "text/plain": [
              "'ali+deli+veli'"
            ]
          },
          "metadata": {},
          "execution_count": 53
        }
      ]
    },
    {
      "cell_type": "code",
      "source": [
        "\"ali-deli-veli\".replace(\"-\",\"+\").replace(\"a\",\"\")"
      ],
      "metadata": {
        "colab": {
          "base_uri": "https://localhost:8080/",
          "height": 35
        },
        "id": "dcMcy4wPo3uw",
        "outputId": "aa0d4fb3-199f-494c-bc96-09782d7af4ac"
      },
      "execution_count": 54,
      "outputs": [
        {
          "output_type": "execute_result",
          "data": {
            "application/vnd.google.colaboratory.intrinsic+json": {
              "type": "string"
            },
            "text/plain": [
              "'li+deli+veli'"
            ]
          },
          "metadata": {},
          "execution_count": 54
        }
      ]
    },
    {
      "cell_type": "code",
      "source": [
        "def isValid(s):\n",
        "  while \"()\" in s or \"[]\" in s or \"{}\" in s:\n",
        "    s = s.replace(\"()\",\"\").replace(\"[]\",\"\").replace(\"{}\",\"\")\n",
        "    return s == \"\""
      ],
      "metadata": {
        "id": "fo2XY1B_oByS"
      },
      "execution_count": 55,
      "outputs": []
    },
    {
      "cell_type": "code",
      "source": [
        "isValid(x)"
      ],
      "metadata": {
        "colab": {
          "base_uri": "https://localhost:8080/"
        },
        "id": "6-MTYZKapuvG",
        "outputId": "a2ec3f80-ee03-4b16-80a6-ef2b2979ad7e"
      },
      "execution_count": 56,
      "outputs": [
        {
          "output_type": "execute_result",
          "data": {
            "text/plain": [
              "False"
            ]
          },
          "metadata": {},
          "execution_count": 56
        }
      ]
    },
    {
      "cell_type": "markdown",
      "source": [
        "BUILDING A CALCULATOR USING DICT WITH LAMBDA **FUNCTION** "
      ],
      "metadata": {
        "id": "bQwM-OZ3rF3i"
      }
    },
    {
      "cell_type": "code",
      "source": [
        "(lambda x,y: x+y)(4,5)"
      ],
      "metadata": {
        "colab": {
          "base_uri": "https://localhost:8080/"
        },
        "id": "UAheei2_rUjh",
        "outputId": "462fbda0-0433-46fd-d9b5-0a8e3276ac31"
      },
      "execution_count": 62,
      "outputs": [
        {
          "output_type": "execute_result",
          "data": {
            "text/plain": [
              "9"
            ]
          },
          "metadata": {},
          "execution_count": 62
        }
      ]
    },
    {
      "cell_type": "code",
      "source": [
        "bir_diksiniri = {\"ne diyorum\" : \"sesimi duy\",\n",
        "                  \"neden\" : [\"Bilmiyorum\"]}\n",
        "\n",
        "bir_diksiniri['neden']"
      ],
      "metadata": {
        "colab": {
          "base_uri": "https://localhost:8080/"
        },
        "id": "L84dubqcrfZn",
        "outputId": "3310a76c-944c-43b0-bfb5-a21a9b496f0b"
      },
      "execution_count": 65,
      "outputs": [
        {
          "output_type": "execute_result",
          "data": {
            "text/plain": [
              "['Bilmiyorum']"
            ]
          },
          "metadata": {},
          "execution_count": 65
        }
      ]
    },
    {
      "cell_type": "code",
      "source": [
        "calculator = {  \"+\" : (lambda x,y: x+y),\n",
        "                \"-\" : (lambda x,y: x-y),\n",
        "                \"/\" : (lambda x,y: x/y),\n",
        "                \"*\" : (lambda x,y: x*y)}"
      ],
      "metadata": {
        "id": "OiaTBL45sCru"
      },
      "execution_count": 66,
      "outputs": []
    },
    {
      "cell_type": "code",
      "source": [
        "calculator['+'](4,5)"
      ],
      "metadata": {
        "colab": {
          "base_uri": "https://localhost:8080/"
        },
        "id": "CNxYbK6JsjQv",
        "outputId": "ca73b5c4-7476-4c4e-dd1d-d59e5e5d96f6"
      },
      "execution_count": 69,
      "outputs": [
        {
          "output_type": "execute_result",
          "data": {
            "text/plain": [
              "9"
            ]
          },
          "metadata": {},
          "execution_count": 69
        }
      ]
    },
    {
      "cell_type": "code",
      "source": [
        "calculator['*'](4,5)"
      ],
      "metadata": {
        "colab": {
          "base_uri": "https://localhost:8080/"
        },
        "id": "-BKW8enMsuZP",
        "outputId": "beb12aa8-89b6-4c83-d6f2-146411db367d"
      },
      "execution_count": 70,
      "outputs": [
        {
          "output_type": "execute_result",
          "data": {
            "text/plain": [
              "20"
            ]
          },
          "metadata": {},
          "execution_count": 70
        }
      ]
    },
    {
      "cell_type": "code",
      "source": [
        "calculator['/'](32,8)"
      ],
      "metadata": {
        "colab": {
          "base_uri": "https://localhost:8080/"
        },
        "id": "cF4gj89ys_Ui",
        "outputId": "41048fa3-a390-4682-afac-123e63e378f4"
      },
      "execution_count": 71,
      "outputs": [
        {
          "output_type": "execute_result",
          "data": {
            "text/plain": [
              "4.0"
            ]
          },
          "metadata": {},
          "execution_count": 71
        }
      ]
    },
    {
      "cell_type": "markdown",
      "source": [
        "PASSWORD **BELIRLEME**"
      ],
      "metadata": {
        "id": "qEOCB1bquy2v"
      }
    },
    {
      "cell_type": "code",
      "source": [
        "import random"
      ],
      "metadata": {
        "id": "tee7F8ttuxg-"
      },
      "execution_count": 19,
      "outputs": []
    },
    {
      "cell_type": "code",
      "source": [
        "random.randint(10,30)"
      ],
      "metadata": {
        "colab": {
          "base_uri": "https://localhost:8080/"
        },
        "id": "PcEwQ9tRvHAO",
        "outputId": "b7bcb240-6467-4504-ef59-15d3152a9912"
      },
      "execution_count": 75,
      "outputs": [
        {
          "output_type": "execute_result",
          "data": {
            "text/plain": [
              "21"
            ]
          },
          "metadata": {},
          "execution_count": 75
        }
      ]
    },
    {
      "cell_type": "code",
      "source": [
        "chr(111)"
      ],
      "metadata": {
        "colab": {
          "base_uri": "https://localhost:8080/",
          "height": 35
        },
        "id": "w5DN-R-1ymC_",
        "outputId": "5d3643b4-da98-478f-d08d-19a6df9e8b54"
      },
      "execution_count": 82,
      "outputs": [
        {
          "output_type": "execute_result",
          "data": {
            "application/vnd.google.colaboratory.intrinsic+json": {
              "type": "string"
            },
            "text/plain": [
              "'o'"
            ]
          },
          "metadata": {},
          "execution_count": 82
        }
      ]
    },
    {
      "cell_type": "code",
      "source": [
        "chr(random.randint(65,90))"
      ],
      "metadata": {
        "colab": {
          "base_uri": "https://localhost:8080/",
          "height": 35
        },
        "id": "FnXlmz7_y09h",
        "outputId": "96cf2403-f86f-49b5-da36-778e1b1ce5b3"
      },
      "execution_count": 84,
      "outputs": [
        {
          "output_type": "execute_result",
          "data": {
            "application/vnd.google.colaboratory.intrinsic+json": {
              "type": "string"
            },
            "text/plain": [
              "'G'"
            ]
          },
          "metadata": {},
          "execution_count": 84
        }
      ]
    },
    {
      "cell_type": "code",
      "source": [
        "chr(random.randint(97,122))"
      ],
      "metadata": {
        "colab": {
          "base_uri": "https://localhost:8080/",
          "height": 35
        },
        "id": "B5XQOv-pzE5O",
        "outputId": "97e07214-e3cf-4817-d653-ca93a46eafb2"
      },
      "execution_count": 85,
      "outputs": [
        {
          "output_type": "execute_result",
          "data": {
            "application/vnd.google.colaboratory.intrinsic+json": {
              "type": "string"
            },
            "text/plain": [
              "'n'"
            ]
          },
          "metadata": {},
          "execution_count": 85
        }
      ]
    },
    {
      "cell_type": "code",
      "source": [
        "chr(random.randint(48,57))"
      ],
      "metadata": {
        "colab": {
          "base_uri": "https://localhost:8080/",
          "height": 35
        },
        "id": "TW7fresPzJ_S",
        "outputId": "81122fa7-f559-452d-c879-4e82acda9e28"
      },
      "execution_count": 86,
      "outputs": [
        {
          "output_type": "execute_result",
          "data": {
            "application/vnd.google.colaboratory.intrinsic+json": {
              "type": "string"
            },
            "text/plain": [
              "'4'"
            ]
          },
          "metadata": {},
          "execution_count": 86
        }
      ]
    },
    {
      "cell_type": "code",
      "source": [
        "chr(random.randint(33,47))"
      ],
      "metadata": {
        "colab": {
          "base_uri": "https://localhost:8080/",
          "height": 35
        },
        "id": "toK1BhQVzZEb",
        "outputId": "5742c3cd-9efe-418b-f4d3-c0be3e26b944"
      },
      "execution_count": 87,
      "outputs": [
        {
          "output_type": "execute_result",
          "data": {
            "application/vnd.google.colaboratory.intrinsic+json": {
              "type": "string"
            },
            "text/plain": [
              "'+'"
            ]
          },
          "metadata": {},
          "execution_count": 87
        }
      ]
    },
    {
      "cell_type": "code",
      "source": [
        "chr(random.randint(58,64))"
      ],
      "metadata": {
        "colab": {
          "base_uri": "https://localhost:8080/",
          "height": 35
        },
        "id": "vv4cnheuzpG7",
        "outputId": "310195cc-f119-41f5-aebc-c4e845cdece4"
      },
      "execution_count": 88,
      "outputs": [
        {
          "output_type": "execute_result",
          "data": {
            "application/vnd.google.colaboratory.intrinsic+json": {
              "type": "string"
            },
            "text/plain": [
              "'>'"
            ]
          },
          "metadata": {},
          "execution_count": 88
        }
      ]
    },
    {
      "cell_type": "code",
      "source": [
        "# list comprehension yapacagiz\n",
        "uppers = [chr(random.randint(65,90)) for i in range(3)]\n",
        "uppers"
      ],
      "metadata": {
        "colab": {
          "base_uri": "https://localhost:8080/"
        },
        "id": "fk-sOjnHzuGa",
        "outputId": "30c445a0-1c32-4ee8-b3ce-2317d1387243"
      },
      "execution_count": 20,
      "outputs": [
        {
          "output_type": "execute_result",
          "data": {
            "text/plain": [
              "['B', 'U', 'N']"
            ]
          },
          "metadata": {},
          "execution_count": 20
        }
      ]
    },
    {
      "cell_type": "code",
      "source": [
        "lowers = [chr(random.randint(97,122)) for i in range(3)]\n",
        "lowers"
      ],
      "metadata": {
        "colab": {
          "base_uri": "https://localhost:8080/"
        },
        "id": "fHHvOrDI0qpO",
        "outputId": "370a97b2-a3a9-4a19-da11-cc1f10c39f92"
      },
      "execution_count": 21,
      "outputs": [
        {
          "output_type": "execute_result",
          "data": {
            "text/plain": [
              "['m', 'h', 'z']"
            ]
          },
          "metadata": {},
          "execution_count": 21
        }
      ]
    },
    {
      "cell_type": "code",
      "source": [
        "numbers = [chr(random.randint(48,57)) for i in range(3)]\n",
        "numbers"
      ],
      "metadata": {
        "colab": {
          "base_uri": "https://localhost:8080/"
        },
        "id": "OvnOLw5s03Gd",
        "outputId": "d2772398-ad92-42b8-a0ff-549a5a7ec507"
      },
      "execution_count": 22,
      "outputs": [
        {
          "output_type": "execute_result",
          "data": {
            "text/plain": [
              "['6', '3', '0']"
            ]
          },
          "metadata": {},
          "execution_count": 22
        }
      ]
    },
    {
      "cell_type": "code",
      "source": [
        "chars = chr(random.randint(33,47))+chr(random.randint(58,64))\n",
        "chars"
      ],
      "metadata": {
        "colab": {
          "base_uri": "https://localhost:8080/",
          "height": 35
        },
        "id": "o0M61Tii1DFI",
        "outputId": "9293b189-b6a8-4e01-e649-d05135e4689c"
      },
      "execution_count": 23,
      "outputs": [
        {
          "output_type": "execute_result",
          "data": {
            "application/vnd.google.colaboratory.intrinsic+json": {
              "type": "string"
            },
            "text/plain": [
              "\"'>\""
            ]
          },
          "metadata": {},
          "execution_count": 23
        }
      ]
    },
    {
      "cell_type": "code",
      "source": [
        "\"\".join(numbers)"
      ],
      "metadata": {
        "colab": {
          "base_uri": "https://localhost:8080/",
          "height": 35
        },
        "id": "L94z-spJ1s33",
        "outputId": "b6f08702-e9b0-41d8-8eb1-0f28f552afc3"
      },
      "execution_count": 24,
      "outputs": [
        {
          "output_type": "execute_result",
          "data": {
            "application/vnd.google.colaboratory.intrinsic+json": {
              "type": "string"
            },
            "text/plain": [
              "'630'"
            ]
          },
          "metadata": {},
          "execution_count": 24
        }
      ]
    },
    {
      "cell_type": "code",
      "source": [
        "\"-\".join(numbers)"
      ],
      "metadata": {
        "colab": {
          "base_uri": "https://localhost:8080/",
          "height": 35
        },
        "id": "_uYXfXW01y2c",
        "outputId": "550b13a5-657c-47e7-f179-12fc419d4d61"
      },
      "execution_count": 25,
      "outputs": [
        {
          "output_type": "execute_result",
          "data": {
            "application/vnd.google.colaboratory.intrinsic+json": {
              "type": "string"
            },
            "text/plain": [
              "'6-3-0'"
            ]
          },
          "metadata": {},
          "execution_count": 25
        }
      ]
    },
    {
      "cell_type": "code",
      "source": [
        "passw = \"\".join(uppers) + \"\".join(lowers) + \"\".join(numbers) + \"\".join(chars)\n",
        "passw #ancak bunlari karistirmak lazim"
      ],
      "metadata": {
        "colab": {
          "base_uri": "https://localhost:8080/",
          "height": 35
        },
        "id": "cQOdgIY512s1",
        "outputId": "e2f675f4-edac-4f9e-93cd-8a100453d2af"
      },
      "execution_count": 26,
      "outputs": [
        {
          "output_type": "execute_result",
          "data": {
            "application/vnd.google.colaboratory.intrinsic+json": {
              "type": "string"
            },
            "text/plain": [
              "\"BUNmhz630'>\""
            ]
          },
          "metadata": {},
          "execution_count": 26
        }
      ]
    },
    {
      "cell_type": "code",
      "source": [
        "ornek = \"alivelideli\""
      ],
      "metadata": {
        "id": "0uIHLe0a2Rl6"
      },
      "execution_count": 7,
      "outputs": []
    },
    {
      "cell_type": "code",
      "source": [
        "list(ornek)"
      ],
      "metadata": {
        "colab": {
          "base_uri": "https://localhost:8080/"
        },
        "id": "dhuq-Qut2mm3",
        "outputId": "d439592c-2aca-4d15-f265-96ec4cac0a2b"
      },
      "execution_count": 9,
      "outputs": [
        {
          "output_type": "execute_result",
          "data": {
            "text/plain": [
              "['a', 'l', 'i', 'v', 'e', 'l', 'i', 'd', 'e', 'l', 'i']"
            ]
          },
          "metadata": {},
          "execution_count": 9
        }
      ]
    },
    {
      "cell_type": "code",
      "source": [
        "ornek_list = list(ornek)"
      ],
      "metadata": {
        "id": "Cw1KvU7K3rL0"
      },
      "execution_count": 29,
      "outputs": []
    },
    {
      "cell_type": "code",
      "source": [
        "print(random.shuffle(ornek_list))"
      ],
      "metadata": {
        "colab": {
          "base_uri": "https://localhost:8080/"
        },
        "id": "k0Y4dUsv3xLX",
        "outputId": "13241fc2-aa37-4f78-c811-b7ff4ccd03e3"
      },
      "execution_count": 34,
      "outputs": [
        {
          "output_type": "stream",
          "name": "stdout",
          "text": [
            "None\n"
          ]
        }
      ]
    },
    {
      "cell_type": "code",
      "source": [
        "def karistir(password):\n",
        "  templist = list(password)\n",
        "  random.shuffle(templist)\n",
        "  return ''.join(templist)"
      ],
      "metadata": {
        "id": "CrRgqcST4DAu"
      },
      "execution_count": 32,
      "outputs": []
    },
    {
      "cell_type": "code",
      "source": [
        "passw = karistir(passw)\n",
        "passw"
      ],
      "metadata": {
        "colab": {
          "base_uri": "https://localhost:8080/",
          "height": 35
        },
        "id": "mdSGliAg5Mmg",
        "outputId": "895148db-9156-4b0e-c2c1-5f6d07a00a84"
      },
      "execution_count": 33,
      "outputs": [
        {
          "output_type": "execute_result",
          "data": {
            "application/vnd.google.colaboratory.intrinsic+json": {
              "type": "string"
            },
            "text/plain": [
              "\"B0>36Nhmz'U\""
            ]
          },
          "metadata": {},
          "execution_count": 33
        }
      ]
    },
    {
      "cell_type": "code",
      "source": [
        "from timeit import timeit"
      ],
      "metadata": {
        "id": "X8-Rt5Q35qmQ"
      },
      "execution_count": 35,
      "outputs": []
    },
    {
      "cell_type": "code",
      "source": [
        "def  for_loop():\n",
        "  result = []\n",
        "  for i in range(1000000):\n",
        "    result.append(i)\n",
        "  return result"
      ],
      "metadata": {
        "id": "uEWCeuaV51dX"
      },
      "execution_count": 38,
      "outputs": []
    },
    {
      "cell_type": "code",
      "source": [
        "def list_comp():\n",
        "    return [i for i in range(1000000)]"
      ],
      "metadata": {
        "id": "PXI91T0X6xzS"
      },
      "execution_count": 45,
      "outputs": []
    },
    {
      "cell_type": "code",
      "source": [
        "size = 100\n",
        "\n",
        "time_for = timeit(for_loop, number = size)\n",
        "time_list_comp = timeit(list_comp, number = size)"
      ],
      "metadata": {
        "id": "oMNETAIc6-Rp"
      },
      "execution_count": 46,
      "outputs": []
    },
    {
      "cell_type": "code",
      "source": [
        "print(time_for)"
      ],
      "metadata": {
        "colab": {
          "base_uri": "https://localhost:8080/"
        },
        "id": "KZwTY8BR72Il",
        "outputId": "b9270424-0ad8-4cb7-c31c-cb18a8e0cb32"
      },
      "execution_count": 47,
      "outputs": [
        {
          "output_type": "stream",
          "name": "stdout",
          "text": [
            "11.770378216999234\n"
          ]
        }
      ]
    },
    {
      "cell_type": "code",
      "source": [
        "print(time_list_comp)"
      ],
      "metadata": {
        "colab": {
          "base_uri": "https://localhost:8080/"
        },
        "id": "Sj_yPx3-8who",
        "outputId": "64e9a7cd-6f34-47c3-cc23-1e8d2a39591e"
      },
      "execution_count": 48,
      "outputs": [
        {
          "output_type": "stream",
          "name": "stdout",
          "text": [
            "6.938771324999834\n"
          ]
        }
      ]
    },
    {
      "cell_type": "code",
      "source": [
        "time_for/time_list_comp"
      ],
      "metadata": {
        "colab": {
          "base_uri": "https://localhost:8080/"
        },
        "id": "UvYin3iz9dm-",
        "outputId": "17d78015-f971-4cd8-dc58-f87b1f587c0e"
      },
      "execution_count": 49,
      "outputs": [
        {
          "output_type": "execute_result",
          "data": {
            "text/plain": [
              "1.6963202367819081"
            ]
          },
          "metadata": {},
          "execution_count": 49
        }
      ]
    }
  ]
}