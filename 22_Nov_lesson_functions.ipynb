{
  "nbformat": 4,
  "nbformat_minor": 0,
  "metadata": {
    "colab": {
      "name": "22_Nov_lesson_functions.ipynb",
      "provenance": [],
      "authorship_tag": "ABX9TyMqxUieNijVz6z98u5ArjLj",
      "include_colab_link": true
    },
    "kernelspec": {
      "name": "python3",
      "display_name": "Python 3"
    },
    "language_info": {
      "name": "python"
    }
  },
  "cells": [
    {
      "cell_type": "markdown",
      "metadata": {
        "id": "view-in-github",
        "colab_type": "text"
      },
      "source": [
        "<a href=\"https://colab.research.google.com/github/cumbak1823/Phyton_Files/blob/master/22_Nov_lesson_functions.ipynb\" target=\"_parent\"><img src=\"https://colab.research.google.com/assets/colab-badge.svg\" alt=\"Open In Colab\"/></a>"
      ]
    },
    {
      "cell_type": "code",
      "metadata": {
        "id": "7EGSy8L316oi"
      },
      "source": [
        "def who (first,last):\n",
        "  print(\"your first name is \", first)\n",
        "  print(\"your last name is \", last)"
      ],
      "execution_count": null,
      "outputs": []
    },
    {
      "cell_type": "code",
      "metadata": {
        "colab": {
          "base_uri": "https://localhost:8080/"
        },
        "id": "9gp1JxPF3pAy",
        "outputId": "59c88f19-1737-42a5-a0b4-3db2e4316972"
      },
      "source": [
        "who(\"Hakan\",\"Yildiz\")"
      ],
      "execution_count": null,
      "outputs": [
        {
          "output_type": "stream",
          "name": "stdout",
          "text": [
            "your first name is  Hakan\n",
            "your last name is  Yildiz\n"
          ]
        }
      ]
    },
    {
      "cell_type": "code",
      "metadata": {
        "id": "qgoRzL0Q_SuY"
      },
      "source": [
        "a= \"herkesi sen\"\n",
        "b= \"Sadıkâne\"\n",
        "c=\"yâr olur\"\n",
        "d=\"ağyâr olur\"\n",
        "e=\"serdar olur\"\n",
        "\n",
        "def yavuz(x1,x2,x3,x4,x5):\n",
        "  print(\"Sanma şâhım\",x1,x2,x3)\n",
        "  print(x1,\"dost mu sandın belki ol\", x4)\n",
        "  print(x2,\"belki ol alemde bir\",x5)\n",
        "  print(x3,x4,x5,\"didar olur\")"
      ],
      "execution_count": null,
      "outputs": []
    },
    {
      "cell_type": "code",
      "metadata": {
        "colab": {
          "base_uri": "https://localhost:8080/"
        },
        "id": "lBsWmMnwE_eI",
        "outputId": "e6736051-7a23-4b1b-97cf-f0be5a4e42af"
      },
      "source": [
        "yavuz(a,b,c,d,e)"
      ],
      "execution_count": null,
      "outputs": [
        {
          "output_type": "stream",
          "name": "stdout",
          "text": [
            "Sanma şâhım herkesi sen Sadıkâne yâr olur\n",
            "herkesi sen dost mu sandın belki ol ağyâr olur\n",
            "Sadıkâne belki ol alemde bir serdar olur\n",
            "yâr olur ağyâr olur serdar olur didar olur\n"
          ]
        }
      ]
    },
    {
      "cell_type": "code",
      "metadata": {
        "colab": {
          "base_uri": "https://localhost:8080/"
        },
        "id": "KqEJxfyU5nGo",
        "outputId": "8a9b284b-0478-4134-b22a-c0c478a86823"
      },
      "source": [
        "a = \"I\"\n",
        "b = \"love\"\n",
        "c = \"you\"\n",
        "\n",
        "\n",
        "def texter(w1,w2,w3):\n",
        "  print(w2,w3,w1)\n",
        "\n",
        "texter(c,a,b)"
      ],
      "execution_count": null,
      "outputs": [
        {
          "output_type": "stream",
          "name": "stdout",
          "text": [
            "I love you\n"
          ]
        }
      ]
    },
    {
      "cell_type": "markdown",
      "metadata": {
        "id": "1lB7JMlm66mg"
      },
      "source": [
        "KEYWORD ARGUMENTS"
      ]
    },
    {
      "cell_type": "code",
      "metadata": {
        "colab": {
          "base_uri": "https://localhost:8080/"
        },
        "id": "efuY0vtO65RT",
        "outputId": "daa6ff4b-12f6-4fbf-f76d-4448876247ba"
      },
      "source": [
        "def who (first,last):\n",
        "  print(\"your first name is \", first)\n",
        "  print(\"your last name is \", last)\n",
        "\n",
        "who(first=\"Guidi\", last=\"van Rossum\")"
      ],
      "execution_count": null,
      "outputs": [
        {
          "output_type": "stream",
          "name": "stdout",
          "text": [
            "your first name is  Guidi\n",
            "your last name is  van Rossum\n"
          ]
        }
      ]
    },
    {
      "cell_type": "code",
      "metadata": {
        "id": "pbVUlzRb8C6K"
      },
      "source": [
        "a = \"I\"\n",
        "b = \"love\"\n",
        "c = \"you\"\n",
        "\n",
        "\n",
        "def texter(w1,w2,w3):\n",
        "  print(w2,w3,w1)"
      ],
      "execution_count": null,
      "outputs": []
    },
    {
      "cell_type": "code",
      "metadata": {
        "colab": {
          "base_uri": "https://localhost:8080/",
          "height": 130
        },
        "id": "Od6ueYzs7cBf",
        "outputId": "85a373d0-d05e-4f8e-f44e-e350de38f888"
      },
      "source": [
        "texter = (w1= \"you\", w3= \"love\", w2 = \"I\")\n"
      ],
      "execution_count": null,
      "outputs": [
        {
          "output_type": "error",
          "ename": "SyntaxError",
          "evalue": "ignored",
          "traceback": [
            "\u001b[0;36m  File \u001b[0;32m\"<ipython-input-20-8a2a6fba1c99>\"\u001b[0;36m, line \u001b[0;32m1\u001b[0m\n\u001b[0;31m    texter = (w1= \"you\", w3= \"love\", w2 = \"I\")\u001b[0m\n\u001b[0m                ^\u001b[0m\n\u001b[0;31mSyntaxError\u001b[0m\u001b[0;31m:\u001b[0m invalid syntax\n"
          ]
        }
      ]
    },
    {
      "cell_type": "code",
      "metadata": {
        "id": "4kIwcSpR8UGx"
      },
      "source": [
        "def fonk (x=\"ali\", y = 22):\n",
        "  print(x,y, \"yaşındadır\")"
      ],
      "execution_count": null,
      "outputs": []
    },
    {
      "cell_type": "code",
      "metadata": {
        "colab": {
          "base_uri": "https://localhost:8080/"
        },
        "id": "8RReTYER8dlV",
        "outputId": "537ee027-ecbd-44a0-88a8-dabbbf599d72"
      },
      "source": [
        "fonk()"
      ],
      "execution_count": null,
      "outputs": [
        {
          "output_type": "stream",
          "name": "stdout",
          "text": [
            "ali 2 yaşındadır\n"
          ]
        }
      ]
    },
    {
      "cell_type": "code",
      "metadata": {
        "colab": {
          "base_uri": "https://localhost:8080/"
        },
        "id": "kq7KrAnj8z2I",
        "outputId": "851d2ebe-1562-406b-a803-92a4d935f408"
      },
      "source": [
        "fonk(x=\"deli\",y= 33)"
      ],
      "execution_count": null,
      "outputs": [
        {
          "output_type": "stream",
          "name": "stdout",
          "text": [
            "deli 33 yaşındadır\n"
          ]
        }
      ]
    },
    {
      "cell_type": "code",
      "metadata": {
        "id": "egFTUYL5850W",
        "colab": {
          "base_uri": "https://localhost:8080/"
        },
        "outputId": "dfa876b2-e989-463d-f621-4f0be84a1a8e"
      },
      "source": [
        "fonk(\"veli\")"
      ],
      "execution_count": null,
      "outputs": [
        {
          "output_type": "stream",
          "name": "stdout",
          "text": [
            "veli 2 yaşındadır\n"
          ]
        }
      ]
    },
    {
      "cell_type": "code",
      "metadata": {
        "id": "VWZ1TGsE94xg"
      },
      "source": [
        "def parrot(voltage, state='a stiff', action='voom', type='Norwegian Blue'):\n",
        "    print(\"-- This parrot wouldn't\", action, end=' ')\n",
        "    print(\"if you put\", voltage, \"volts through it.\")\n",
        "    print(\"-- Lovely plumage, the\", type)\n",
        "    print(\"-- It's\", state, \"!\")\n",
        "\n",
        "\n"
      ],
      "execution_count": null,
      "outputs": []
    },
    {
      "cell_type": "code",
      "metadata": {
        "colab": {
          "base_uri": "https://localhost:8080/"
        },
        "id": "7nutelxt-JBl",
        "outputId": "aa62d727-cf58-4c7e-ddd1-d2c875a2d249"
      },
      "source": [
        "parrot(1000) # buradaki 1000 voltahja gider"
      ],
      "execution_count": null,
      "outputs": [
        {
          "output_type": "stream",
          "name": "stdout",
          "text": [
            "-- This parrot wouldn't voom if you put 1000 volts through it.\n",
            "-- Lovely plumage, the Norwegian Blue\n",
            "-- It's a stiff !\n"
          ]
        }
      ]
    },
    {
      "cell_type": "code",
      "metadata": {
        "colab": {
          "base_uri": "https://localhost:8080/"
        },
        "id": "TQjh5eJH-9vP",
        "outputId": "6dd7a545-08fe-42c4-fabf-458f49227bd0"
      },
      "source": [
        "parrot(voltage=1000000, action='VOOOOOM')"
      ],
      "execution_count": null,
      "outputs": [
        {
          "output_type": "stream",
          "name": "stdout",
          "text": [
            "-- This parrot wouldn't VOOOOOM if you put 1000000 volts through it.\n",
            "-- Lovely plumage, the Norwegian Blue\n",
            "-- It's a stiff !\n"
          ]
        }
      ]
    },
    {
      "cell_type": "markdown",
      "metadata": {
        "id": "Xx7YYF-TEi_s"
      },
      "source": [
        "positional arguments lari keyword lar takip eder"
      ]
    },
    {
      "cell_type": "code",
      "metadata": {
        "id": "gdQEWNVZEoot"
      },
      "source": [
        "def argu(a,c,b=\"dunya\",d=\"saturn\"):\n",
        "  print(a,b,c,d, sep=\"\\n\")"
      ],
      "execution_count": null,
      "outputs": []
    },
    {
      "cell_type": "code",
      "metadata": {
        "colab": {
          "base_uri": "https://localhost:8080/"
        },
        "id": "1oZyAgR1Fr0y",
        "outputId": "0744d38c-9fb9-42e2-8aef-46afbea75aa2"
      },
      "source": [
        "argu(\"uranus\",\"jupiter\")"
      ],
      "execution_count": null,
      "outputs": [
        {
          "output_type": "stream",
          "name": "stdout",
          "text": [
            "uranus\n",
            "dunya\n",
            "jupiter\n",
            "saturn\n"
          ]
        }
      ]
    },
    {
      "cell_type": "code",
      "metadata": {
        "colab": {
          "base_uri": "https://localhost:8080/"
        },
        "id": "ml_UF-ZKGKoZ",
        "outputId": "1564ed6a-d88b-4c3a-cd6c-9be4bb83fee5"
      },
      "source": [
        "argu(a=\"uranus\", c='jupiter')"
      ],
      "execution_count": null,
      "outputs": [
        {
          "output_type": "stream",
          "name": "stdout",
          "text": [
            "uranus\n",
            "dunya\n",
            "jupiter\n",
            "saturn\n"
          ]
        }
      ]
    },
    {
      "cell_type": "markdown",
      "metadata": {
        "id": "bg4_LbzNGnIP"
      },
      "source": [
        "**positionalları keywordla çağırabiliyoruz, keywordları da positionla çağırabiliriz.** "
      ]
    },
    {
      "cell_type": "code",
      "metadata": {
        "colab": {
          "base_uri": "https://localhost:8080/",
          "height": 130
        },
        "id": "kRaVS_n6GpeK",
        "outputId": "28f0c033-f05b-414e-c978-44289c8eda39"
      },
      "source": [
        "argu(\"pluton\", c=\"venus\", \"mars\")"
      ],
      "execution_count": null,
      "outputs": [
        {
          "output_type": "error",
          "ename": "SyntaxError",
          "evalue": "ignored",
          "traceback": [
            "\u001b[0;36m  File \u001b[0;32m\"<ipython-input-35-2edc52fdad36>\"\u001b[0;36m, line \u001b[0;32m1\u001b[0m\n\u001b[0;31m    argu(\"pluton\", c=\"venus\", \"mars\")\u001b[0m\n\u001b[0m                             ^\u001b[0m\n\u001b[0;31mSyntaxError\u001b[0m\u001b[0;31m:\u001b[0m positional argument follows keyword argument\n"
          ]
        }
      ]
    },
    {
      "cell_type": "code",
      "metadata": {
        "id": "YS62_1EAHnGq"
      },
      "source": [
        "def argu(a,c,b=\"dunya\",d=\"saturn\"):\n",
        "  print(a,b,c,d, sep=\"\\n\")"
      ],
      "execution_count": null,
      "outputs": []
    },
    {
      "cell_type": "code",
      "metadata": {
        "colab": {
          "base_uri": "https://localhost:8080/",
          "height": 164
        },
        "id": "7Iwk0rb-HZKj",
        "outputId": "d9d5ef29-d198-4774-a72a-3a93ea159417"
      },
      "source": [
        "argu(\"pluton\", \"mars\", c=\"venus\") # c ye iki atama yapmis olduk"
      ],
      "execution_count": null,
      "outputs": [
        {
          "output_type": "error",
          "ename": "TypeError",
          "evalue": "ignored",
          "traceback": [
            "\u001b[0;31m---------------------------------------------------------------------------\u001b[0m",
            "\u001b[0;31mTypeError\u001b[0m                                 Traceback (most recent call last)",
            "\u001b[0;32m<ipython-input-41-b81d1f3f66d1>\u001b[0m in \u001b[0;36m<module>\u001b[0;34m()\u001b[0m\n\u001b[0;32m----> 1\u001b[0;31m \u001b[0margu\u001b[0m\u001b[0;34m(\u001b[0m\u001b[0;34m\"pluton\"\u001b[0m\u001b[0;34m,\u001b[0m \u001b[0;34m\"mars\"\u001b[0m\u001b[0;34m,\u001b[0m \u001b[0mc\u001b[0m\u001b[0;34m=\u001b[0m\u001b[0;34m\"venus\"\u001b[0m\u001b[0;34m)\u001b[0m \u001b[0;31m# c ye iki atama yapmis olduk\u001b[0m\u001b[0;34m\u001b[0m\u001b[0;34m\u001b[0m\u001b[0m\n\u001b[0m",
            "\u001b[0;31mTypeError\u001b[0m: argu() got multiple values for argument 'c'"
          ]
        }
      ]
    },
    {
      "cell_type": "code",
      "metadata": {
        "colab": {
          "base_uri": "https://localhost:8080/"
        },
        "id": "mQWH_ZgPH1j3",
        "outputId": "f911097c-89ec-497f-aaa0-5997f311b910"
      },
      "source": [
        "argu(d = \"gunes\", a = \"dunya\", c=\"pluton\", b=\"venus\")"
      ],
      "execution_count": null,
      "outputs": [
        {
          "output_type": "stream",
          "name": "stdout",
          "text": [
            "dunya\n",
            "venus\n",
            "pluton\n",
            "gunes\n"
          ]
        }
      ]
    },
    {
      "cell_type": "code",
      "metadata": {
        "colab": {
          "base_uri": "https://localhost:8080/"
        },
        "id": "TDDx-7haIVqP",
        "outputId": "4ca6d413-5858-4c88-d776-c47ce4c18680"
      },
      "source": [
        "argu(\"gunes\", \"dunya\", \"pluton\", \"venus\")"
      ],
      "execution_count": null,
      "outputs": [
        {
          "output_type": "stream",
          "name": "stdout",
          "text": [
            "gunes\n",
            "pluton\n",
            "dunya\n",
            "venus\n"
          ]
        }
      ]
    },
    {
      "cell_type": "code",
      "metadata": {
        "colab": {
          "base_uri": "https://localhost:8080/"
        },
        "id": "xJQjK-2fJ3zs",
        "outputId": "6f77e34e-93e7-46a3-cbe1-443b81048d0c"
      },
      "source": [
        "a = input(\"Please enter a number : \")\n",
        "sum = 0\n",
        "for i in str(a):\n",
        "  b= int(i)\n",
        "  sum = sum + b**3\n",
        "if sum ==a:\n",
        "  print(a,\" is an Armstrong Number\")\n",
        "else:\n",
        "  print(a,\" is NOT an Armstrong Number, because sum of 3rd power of numbers is \", sum)"
      ],
      "execution_count": null,
      "outputs": [
        {
          "output_type": "stream",
          "name": "stdout",
          "text": [
            "Please enter a number : 567\n",
            "567  is NOT an Armstrong Number, because sum of 3rd power of numbers is  684\n"
          ]
        }
      ]
    },
    {
      "cell_type": "code",
      "metadata": {
        "colab": {
          "base_uri": "https://localhost:8080/"
        },
        "id": "2ohewJq9K6ko",
        "outputId": "c1b80188-5deb-4722-9b8e-15a581d20cc4"
      },
      "source": [
        "while True:\n",
        "  number = input(\"enter a positive integer number :  \")\n",
        "  digits = len(number)\n",
        "  summ = 0\n",
        "\n",
        "  if not number.isdigit():\n",
        "    print(number, \" is an invalid number. Enter valid number\")\n",
        "\n",
        "  elif int(number) >= 0:\n",
        "    for i in range (digits):\n",
        "      summ = summ = int(number[i])** digits\n",
        "\n",
        "    if summ == int(number):\n",
        "      print(number,\" is an Armstrong number\")\n",
        "      break\n",
        "    else:\n",
        "      print(number,\" is not an Armstrong number\")\n",
        "      break    "
      ],
      "execution_count": null,
      "outputs": [
        {
          "output_type": "stream",
          "name": "stdout",
          "text": [
            "enter a positive integer number :  63105425988599693916\n",
            "63105425988599693916  is not an Armstrong number\n"
          ]
        }
      ]
    },
    {
      "cell_type": "code",
      "metadata": {
        "colab": {
          "base_uri": "https://localhost:8080/"
        },
        "id": "JQstVwT3TqGw",
        "outputId": "12c3feea-474c-427d-9c59-0a1e153b01c5"
      },
      "source": [
        "while True :\n",
        "    \n",
        "    number = input(\"enter a positive integer number :\")\n",
        "    digits = len(number)\n",
        "    summ = 0\n",
        "    \n",
        "    if not number.isdigit() :\n",
        "        print(number, \" is invalid entry. Enter valid input.\")\n",
        "        \n",
        "    elif int(number) >= 0 :\n",
        "        for i in range(digits) :\n",
        "            \n",
        "            summ = summ + int(number[i]) ** digits\n",
        "        \n",
        "        if summ == int(number):\n",
        "            print(number, \" is an Armstrong Number\")\n",
        "            break\n",
        "            \n",
        "        else :\n",
        "            print(number, \"is not an Armstrong Number\")\n",
        "            break\n",
        "        \n",
        "        "
      ],
      "execution_count": null,
      "outputs": [
        {
          "output_type": "stream",
          "name": "stdout",
          "text": [
            "enter a positive integer number :63105425988599693916\n",
            "63105425988599693916  is an Armstrong Number\n"
          ]
        }
      ]
    },
    {
      "cell_type": "markdown",
      "metadata": {
        "id": "2UttOw4cTxwX"
      },
      "source": [
        "## is it a prime number"
      ]
    },
    {
      "cell_type": "code",
      "metadata": {
        "colab": {
          "base_uri": "https://localhost:8080/"
        },
        "id": "UWyIpZHwT5Ud",
        "outputId": "96bf370d-c021-4046-eef0-eeff215eff0b"
      },
      "source": [
        "n= int(input(\" enter a positive number to check if it is prime number \"))\n",
        "counter = 0\n",
        "\n",
        "\n",
        "for i in range(1,n+1):\n",
        "  if n % i ==0:\n",
        "    counter +=1\n",
        "if (n == 0) or (n == 1) or (counter >= 3):\n",
        "  print(\"This is not an primer number\")\n",
        "else:\n",
        "  print(n,\" is a Prime number\")      "
      ],
      "execution_count": null,
      "outputs": [
        {
          "output_type": "stream",
          "name": "stdout",
          "text": [
            " enter a positive number to check if it is prime number 3456\n",
            "This is not an primer number\n"
          ]
        }
      ]
    },
    {
      "cell_type": "code",
      "metadata": {
        "id": "l8dd_NttWtJY",
        "outputId": "94eb8748-edbf-4d51-d0d0-218f16f81bd9",
        "colab": {
          "base_uri": "https://localhost:8080/"
        }
      },
      "source": [
        "numbers = int(input('give a number : '))\n",
        "primes = []\n",
        "[primes.append(False) if numbers % i else primes.append(True) for i in range(2, numbers)]\n",
        "[print(numbers, ' is not a prime number') if any(primes) else print(numbers, ' is a prime number')]"
      ],
      "execution_count": null,
      "outputs": [
        {
          "output_type": "stream",
          "name": "stdout",
          "text": [
            "give a number : 2345\n",
            "2345  is not a prime number\n"
          ]
        },
        {
          "output_type": "execute_result",
          "data": {
            "text/plain": [
              "[None]"
            ]
          },
          "metadata": {},
          "execution_count": 61
        }
      ]
    }
  ]
}