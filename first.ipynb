{
 "cells": [
  {
   "cell_type": "code",
   "execution_count": null,
   "metadata": {},
   "outputs": [],
   "source": [
    "while True :\n",
    "    \n",
    "    number = input(\"enter a positive integer number :\")\n",
    "    digits = len(number)\n",
    "    summ = 0\n",
    "    \n",
    "    if not number.isdigit() :\n",
    "        print(number, \" is invalid entry. Enter valid input.\")\n",
    "        \n",
    "    elif int(number) >= 0 :\n",
    "        for i in range(digits) :\n",
    "            \n",
    "            summ = summ + int(number[i]) ** digits\n",
    "        \n",
    "        if summ == int(number):\n",
    "            print(number, \" is an Armstrong Number\")\n",
    "            break\n",
    "            \n",
    "        else :\n",
    "            print(number, \"is not an Armstrong Number\")\n",
    "            break\n",
    "        \n",
    "        "
   ]
  },
  {
   "cell_type": "code",
   "execution_count": null,
   "metadata": {},
   "outputs": [],
   "source": [
    "a= \"herkesi sen\"\n",
    "b= \"Sadıkâne\"\n",
    "c=\"yâr olur\"\n",
    "d=\"ağyâr olur\"\n",
    "e=\"serdar olur\"\n",
    "\n",
    "def yavuz(x1,x2,x3,x4,x5):\n",
    "  print(\"Sanma şâhım\",x1,x2,x3)\n",
    "  print(x1,\"dost mu sandın belki ol\", x4)\n",
    "  print(x2,\"belki ol alemde bir\",x5)\n",
    "  print(x3,x4,x5,\"didar olur\")"
   ]
  }
 ],
 "metadata": {
  "language_info": {
   "name": "python"
  },
  "orig_nbformat": 4
 },
 "nbformat": 4,
 "nbformat_minor": 2
}
