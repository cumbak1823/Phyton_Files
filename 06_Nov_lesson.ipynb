{
  "nbformat": 4,
  "nbformat_minor": 0,
  "metadata": {
    "colab": {
      "name": "06_Nov_lesson.ipynb",
      "provenance": [],
      "authorship_tag": "ABX9TyOkNDGbefXk95jao8PKlOMq",
      "include_colab_link": true
    },
    "kernelspec": {
      "name": "python3",
      "display_name": "Python 3"
    },
    "language_info": {
      "name": "python"
    }
  },
  "cells": [
    {
      "cell_type": "markdown",
      "metadata": {
        "id": "view-in-github",
        "colab_type": "text"
      },
      "source": [
        "<a href=\"https://colab.research.google.com/github/cumbak1823/Phyton_Files/blob/master/06_Nov_lesson.ipynb\" target=\"_parent\"><img src=\"https://colab.research.google.com/assets/colab-badge.svg\" alt=\"Open In Colab\"/></a>"
      ]
    },
    {
      "cell_type": "code",
      "metadata": {
        "colab": {
          "base_uri": "https://localhost:8080/"
        },
        "id": "6WPCBswnYsXF",
        "outputId": "d5a769bb-29dd-40b8-ec15-8806ce13122b"
      },
      "source": [
        "try:\n",
        "    print(4+\"4\")\n",
        "\n",
        "except:\n",
        "    print(\"probable mistake\")"
      ],
      "execution_count": 1,
      "outputs": [
        {
          "output_type": "stream",
          "name": "stdout",
          "text": [
            "probable mistake\n"
          ]
        }
      ]
    },
    {
      "cell_type": "code",
      "metadata": {
        "colab": {
          "base_uri": "https://localhost:8080/"
        },
        "id": "4-5TpK4RY29J",
        "outputId": "628e5110-f2cc-459a-b3db-a6b049e4861b"
      },
      "source": [
        "try:\n",
        "    file =open(\"mytext.txt\", \"r\")\n",
        "    print(file.read())\n",
        "    file.close\n",
        "except FileNotFoundError: # BURADA YAZILAN ERROR ISMI ONEMLI. HANGI HATAYI KAPSADIGINI BELIRTIYORUZ\n",
        "    print(\"There is no such a file\")"
      ],
      "execution_count": 2,
      "outputs": [
        {
          "output_type": "stream",
          "name": "stdout",
          "text": [
            "There is no such a file\n"
          ]
        }
      ]
    },
    {
      "cell_type": "code",
      "metadata": {
        "colab": {
          "base_uri": "https://localhost:8080/"
        },
        "id": "ZoJRpWh1ZmXE",
        "outputId": "3bedf923-b094-41dc-9843-51712fa88a8c"
      },
      "source": [
        "try:\n",
        "    a = 4+ \"4\"\n",
        "    file =open(\"mytext.txt\", \"r\")\n",
        "    print(file.read())\n",
        "    file.close\n",
        "except FileNotFoundError: # BURADA YAZILAN ERROR ISMI ONEMLI. HANGI HATAYI KAPSADIGINI BELIRTIYORUZ\n",
        "    print(\"There is no such a file\")\n",
        "\n",
        "except TypeError:\n",
        "  print(\"The Type is Incorrect\")    "
      ],
      "execution_count": 3,
      "outputs": [
        {
          "output_type": "stream",
          "name": "stdout",
          "text": [
            "The Type is Incorrect\n"
          ]
        }
      ]
    },
    {
      "cell_type": "markdown",
      "metadata": {
        "id": "mCoXLTubZQbt"
      },
      "source": [
        "**FULL EXCEPTION HANDLING BLOCK**"
      ]
    },
    {
      "cell_type": "code",
      "metadata": {
        "colab": {
          "base_uri": "https://localhost:8080/",
          "height": 266
        },
        "id": "cF6EvF88ZWg4",
        "outputId": "904b7a5e-0136-4cb0-c137-207d05fe59e9"
      },
      "source": [
        "try:\n",
        "  print(\"hi\")\n",
        "  sonuc = \"4\"+5\n",
        "  print(\"Hello\")\n",
        "\n",
        "except ValueError:\n",
        "  print(\"Type Error. Please control the type\")\n",
        "\n",
        "else:\n",
        "  print(\" Ooops. No exception raised\")\n",
        "\n",
        "finally:\n",
        "  print(\"Its my turn in the end\")  "
      ],
      "execution_count": 7,
      "outputs": [
        {
          "output_type": "stream",
          "name": "stdout",
          "text": [
            "hi\n",
            "Its my turn in the end\n"
          ]
        },
        {
          "output_type": "error",
          "ename": "TypeError",
          "evalue": "ignored",
          "traceback": [
            "\u001b[0;31m---------------------------------------------------------------------------\u001b[0m",
            "\u001b[0;31mTypeError\u001b[0m                                 Traceback (most recent call last)",
            "\u001b[0;32m<ipython-input-7-2b8dea437269>\u001b[0m in \u001b[0;36m<module>\u001b[0;34m()\u001b[0m\n\u001b[1;32m      1\u001b[0m \u001b[0;32mtry\u001b[0m\u001b[0;34m:\u001b[0m\u001b[0;34m\u001b[0m\u001b[0;34m\u001b[0m\u001b[0m\n\u001b[1;32m      2\u001b[0m   \u001b[0mprint\u001b[0m\u001b[0;34m(\u001b[0m\u001b[0;34m\"hi\"\u001b[0m\u001b[0;34m)\u001b[0m\u001b[0;34m\u001b[0m\u001b[0;34m\u001b[0m\u001b[0m\n\u001b[0;32m----> 3\u001b[0;31m   \u001b[0msonuc\u001b[0m \u001b[0;34m=\u001b[0m \u001b[0;34m\"4\"\u001b[0m\u001b[0;34m+\u001b[0m\u001b[0;36m5\u001b[0m\u001b[0;34m\u001b[0m\u001b[0;34m\u001b[0m\u001b[0m\n\u001b[0m\u001b[1;32m      4\u001b[0m   \u001b[0mprint\u001b[0m\u001b[0;34m(\u001b[0m\u001b[0;34m\"Hello\"\u001b[0m\u001b[0;34m)\u001b[0m\u001b[0;34m\u001b[0m\u001b[0;34m\u001b[0m\u001b[0m\n\u001b[1;32m      5\u001b[0m \u001b[0;34m\u001b[0m\u001b[0m\n",
            "\u001b[0;31mTypeError\u001b[0m: can only concatenate str (not \"int\") to str"
          ]
        }
      ]
    },
    {
      "cell_type": "code",
      "metadata": {
        "colab": {
          "base_uri": "https://localhost:8080/"
        },
        "id": "r8KcObUnc8JL",
        "outputId": "c901ae3e-917c-4104-9841-6e949708fdc9"
      },
      "source": [
        "try:\n",
        "  print(\"hi\")\n",
        "  sonuc = \"4\"+5\n",
        "  print(\"Hello\")\n",
        "\n",
        "except :\n",
        "  print(\"Type Error. Please control the type\")\n",
        "\n",
        "else:\n",
        "  print(\" Ooops. No exception raised\")\n",
        "\n",
        "finally:\n",
        "  print(\"Its my turn in the end\")"
      ],
      "execution_count": 8,
      "outputs": [
        {
          "output_type": "stream",
          "name": "stdout",
          "text": [
            "hi\n",
            "Type Error. Please control the type\n",
            "Its my turn in the end\n"
          ]
        }
      ]
    },
    {
      "cell_type": "code",
      "metadata": {
        "colab": {
          "base_uri": "https://localhost:8080/"
        },
        "id": "tlXQegxGdMnA",
        "outputId": "cfe0041c-d3e4-4bec-ad80-ad3cafc521bf"
      },
      "source": [
        "try:\n",
        "  print(\"hi\")\n",
        "  sonuc = 4/4\n",
        "  print(\"Hello\")\n",
        "\n",
        "except ValueError:\n",
        "  print(\"Value error a göre işlem yap\")\n",
        "\n",
        "except TypeError:\n",
        "  print(\"Type error a göre işlem yap\")\n",
        "\n",
        "except ZeroDivisionError:\n",
        "  print(\"Zero Division error a göre işlem yap\")\n",
        "\n",
        "else:\n",
        "  print(\" Ooops. No exception raised\")\n",
        "\n",
        "finally:\n",
        "  print(\"Its my turn in the end\")"
      ],
      "execution_count": 10,
      "outputs": [
        {
          "output_type": "stream",
          "name": "stdout",
          "text": [
            "hi\n",
            "Hello\n",
            " Ooops. No exception raised\n",
            "Its my turn in the end\n"
          ]
        }
      ]
    },
    {
      "cell_type": "code",
      "metadata": {
        "colab": {
          "base_uri": "https://localhost:8080/",
          "height": 130
        },
        "id": "5Wk6BIyEezv_",
        "outputId": "012cdbe1-68c3-468b-97f9-c59197678a77"
      },
      "source": [
        "while True:\n",
        "  no_one = int(input(\"The first number please : \"))\n",
        "  no_two = int(input(\"The second number please : \"))\n",
        "\n",
        "  try:\n",
        "    divi = no_one / no_two  # normal part of the program\n",
        "\n",
        "  except ZeroDivisionError:\n",
        "    print(\"You can't divide by zero! Try again.\")  # executes when division by zero\n",
        "  \n",
        "  else:\n",
        "    print(\"The result of the division is : \", division)  # executes if there is no exception\n",
        "    \n",
        "  finally:\n",
        "    print(\"Thanks for using our mini divison calculator! Come again!\")\n",
        "    break  # exits the while loop"
      ],
      "execution_count": 2,
      "outputs": [
        {
          "output_type": "error",
          "ename": "SyntaxError",
          "evalue": "ignored",
          "traceback": [
            "\u001b[0;36m  File \u001b[0;32m\"<ipython-input-2-9cf8e9d23155>\"\u001b[0;36m, line \u001b[0;32m6\u001b[0m\n\u001b[0;31m    divi = no_one / no_two  # normal part of the program\u001b[0m\n\u001b[0m                          ^\u001b[0m\n\u001b[0;31mSyntaxError\u001b[0m\u001b[0;31m:\u001b[0m invalid character in identifier\n"
          ]
        }
      ]
    },
    {
      "cell_type": "code",
      "metadata": {
        "id": "0vsxWvoHgxey"
      },
      "source": [
        "try:\n",
        "  4+\"4\"\n",
        "\n",
        "except Exception as variable:\n"
      ],
      "execution_count": null,
      "outputs": []
    }
  ]
}