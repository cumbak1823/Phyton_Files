{
  "nbformat": 4,
  "nbformat_minor": 0,
  "metadata": {
    "colab": {
      "name": "19 Nov_Teamwork.ipynb",
      "provenance": [],
      "authorship_tag": "ABX9TyMWf/nUOqkfd15MD5EgAK1G",
      "include_colab_link": true
    },
    "kernelspec": {
      "name": "python3",
      "display_name": "Python 3"
    },
    "language_info": {
      "name": "python"
    }
  },
  "cells": [
    {
      "cell_type": "markdown",
      "metadata": {
        "id": "view-in-github",
        "colab_type": "text"
      },
      "source": [
        "<a href=\"https://colab.research.google.com/github/cumbak1823/Phyton_Files/blob/master/19_Nov_Teamwork.ipynb\" target=\"_parent\"><img src=\"https://colab.research.google.com/assets/colab-badge.svg\" alt=\"Open In Colab\"/></a>"
      ]
    },
    {
      "cell_type": "code",
      "metadata": {
        "colab": {
          "base_uri": "https://localhost:8080/"
        },
        "id": "3m8_rEgudQ6u",
        "outputId": "5cad4d71-4d01-43f1-a5a6-97210c9edacc"
      },
      "source": [
        "num=\"123456\"\n",
        "numlis = list(num)\n",
        "for i in numlis:\n",
        "  print(i*int(i))"
      ],
      "execution_count": null,
      "outputs": [
        {
          "output_type": "stream",
          "name": "stdout",
          "text": [
            "1\n",
            "22\n",
            "333\n",
            "4444\n",
            "55555\n",
            "666666\n"
          ]
        }
      ]
    },
    {
      "cell_type": "code",
      "metadata": {
        "colab": {
          "base_uri": "https://localhost:8080/"
        },
        "id": "UcSe-yLRdLVR",
        "outputId": "26916006-d098-4b5a-83cc-d2dc4202fae5"
      },
      "source": [
        "for x in set('pqr'):\n",
        "  print(x*2)"
      ],
      "execution_count": null,
      "outputs": [
        {
          "output_type": "stream",
          "name": "stdout",
          "text": [
            "qq\n",
            "pp\n",
            "rr\n"
          ]
        }
      ]
    },
    {
      "cell_type": "code",
      "metadata": {
        "colab": {
          "base_uri": "https://localhost:8080/"
        },
        "id": "ORemk1OJKj9n",
        "outputId": "54aac978-8e0f-4e1e-ee3d-c23eff28b317"
      },
      "source": [
        "ord(\"q\")"
      ],
      "execution_count": null,
      "outputs": [
        {
          "output_type": "execute_result",
          "data": {
            "text/plain": [
              "113"
            ]
          },
          "metadata": {},
          "execution_count": 9
        }
      ]
    },
    {
      "cell_type": "code",
      "metadata": {
        "colab": {
          "base_uri": "https://localhost:8080/"
        },
        "id": "GlQ1T0HDfSip",
        "outputId": "6773159f-d52d-4f78-c599-0bb3ac9d3247"
      },
      "source": [
        "d = {\"john\":40, \"peter\":45} \n",
        "d[\"john\"]\n",
        "d[\"peter\"]"
      ],
      "execution_count": null,
      "outputs": [
        {
          "output_type": "execute_result",
          "data": {
            "text/plain": [
              "45"
            ]
          },
          "metadata": {},
          "execution_count": 28
        }
      ]
    },
    {
      "cell_type": "code",
      "metadata": {
        "colab": {
          "base_uri": "https://localhost:8080/"
        },
        "id": "lQEFDcxSf0Ov",
        "outputId": "e0be2014-dfc8-4d40-a846-2b814edef570"
      },
      "source": [
        "d = {\"john\":40, \"peter\":45} \n",
        "print(tuple(d.keys()))\n",
        "print(list(d.keys()))\n",
        "print(set(d.keys()))\n",
        "print(list(d.values()))"
      ],
      "execution_count": null,
      "outputs": [
        {
          "output_type": "stream",
          "name": "stdout",
          "text": [
            "('john', 'peter')\n",
            "['john', 'peter']\n",
            "{'john', 'peter'}\n",
            "[40, 45]\n"
          ]
        }
      ]
    },
    {
      "cell_type": "code",
      "metadata": {
        "colab": {
          "base_uri": "https://localhost:8080/"
        },
        "id": "kdkTCqtngPXL",
        "outputId": "2d6cb953-cfa3-47fc-bec7-90048a6e3f31"
      },
      "source": [
        "a={}\n",
        "a['a']=1 \n",
        "a['b']=[2,3,4]\n",
        "print(a)"
      ],
      "execution_count": null,
      "outputs": [
        {
          "output_type": "stream",
          "name": "stdout",
          "text": [
            "{'a': 1, 'b': [2, 3, 4]}\n"
          ]
        }
      ]
    },
    {
      "cell_type": "code",
      "metadata": {
        "colab": {
          "base_uri": "https://localhost:8080/"
        },
        "id": "EnMvOBUyhNWc",
        "outputId": "b560afda-4ee4-48e8-8b3a-405e14e83175"
      },
      "source": [
        "z=set('abc') \n",
        "z.add('san') \n",
        "z.update(set(['p', 'q'])) \n",
        "print(z)"
      ],
      "execution_count": null,
      "outputs": [
        {
          "output_type": "stream",
          "name": "stdout",
          "text": [
            "{'p', 'b', 'q', 'c', 'a', 'san'}\n"
          ]
        }
      ]
    },
    {
      "cell_type": "code",
      "metadata": {
        "colab": {
          "base_uri": "https://localhost:8080/"
        },
        "id": "LGyOfZMChffv",
        "outputId": "4a3ff04b-e341-4482-bd00-a7177f47e68b"
      },
      "source": [
        "count, fruit, price = (2, 'apple', 3.5)\n",
        "type(count)\n",
        "type(fruit)\n",
        "print([count,type(count)],[fruit,type(fruit)],[price, type(price)],sep =\"\\n\")"
      ],
      "execution_count": null,
      "outputs": [
        {
          "output_type": "stream",
          "name": "stdout",
          "text": [
            "[2, <class 'int'>]\n",
            "['apple', <class 'str'>]\n",
            "[3.5, <class 'float'>]\n"
          ]
        }
      ]
    },
    {
      "cell_type": "code",
      "metadata": {
        "colab": {
          "base_uri": "https://localhost:8080/"
        },
        "id": "ErQtV46cii4e",
        "outputId": "fbb7f1e4-e84b-4feb-c78f-4699b0d557b8"
      },
      "source": [
        "college_years = ['Freshman', 'Sophomore', 'Junior', 'Senior'] \n",
        "print(dict(enumerate(college_years, 2019)))"
      ],
      "execution_count": null,
      "outputs": [
        {
          "output_type": "stream",
          "name": "stdout",
          "text": [
            "{2019: 'Freshman', 2020: 'Sophomore', 2021: 'Junior', 2022: 'Senior'}\n"
          ]
        }
      ]
    },
    {
      "cell_type": "code",
      "metadata": {
        "id": "G3jnN9skYYrE"
      },
      "source": [
        ""
      ],
      "execution_count": null,
      "outputs": []
    },
    {
      "cell_type": "code",
      "metadata": {
        "id": "8LMUgTmznbsN"
      },
      "source": [
        "num = int(input(\"enter a number\"))\n",
        "if num // num:\n",
        "  print"
      ],
      "execution_count": null,
      "outputs": []
    },
    {
      "cell_type": "code",
      "metadata": {
        "colab": {
          "base_uri": "https://localhost:8080/"
        },
        "id": "AQepzqBCofCw",
        "outputId": "a16afdf3-f49e-4bab-92f4-e2c955f43c4d"
      },
      "source": [
        "2//2"
      ],
      "execution_count": null,
      "outputs": [
        {
          "output_type": "execute_result",
          "data": {
            "text/plain": [
              "1"
            ]
          },
          "metadata": {},
          "execution_count": 56
        }
      ]
    },
    {
      "cell_type": "code",
      "metadata": {
        "colab": {
          "base_uri": "https://localhost:8080/"
        },
        "id": "HrvMPPqjoknn",
        "outputId": "6a5a11e2-fcba-4217-8239-faece9a9d43e"
      },
      "source": [
        "2%3"
      ],
      "execution_count": null,
      "outputs": [
        {
          "output_type": "execute_result",
          "data": {
            "text/plain": [
              "2"
            ]
          },
          "metadata": {},
          "execution_count": 58
        }
      ]
    },
    {
      "cell_type": "code",
      "metadata": {
        "colab": {
          "base_uri": "https://localhost:8080/"
        },
        "id": "Nev56zKIVanR",
        "outputId": "74d000dc-010a-48ca-a7d7-86238c6dc443"
      },
      "source": [
        "a = (2,3,4)\n",
        "4"
      ],
      "execution_count": null,
      "outputs": [
        {
          "output_type": "execute_result",
          "data": {
            "text/plain": [
              "4"
            ]
          },
          "metadata": {},
          "execution_count": 17
        }
      ]
    },
    {
      "cell_type": "code",
      "metadata": {
        "colab": {
          "base_uri": "https://localhost:8080/",
          "height": 88
        },
        "id": "aUF2w_VUU_H3",
        "outputId": "9367553b-6dd6-4b95-bfbc-96fc41af04db"
      },
      "source": [
        "tuple.__doc__"
      ],
      "execution_count": null,
      "outputs": [
        {
          "output_type": "execute_result",
          "data": {
            "application/vnd.google.colaboratory.intrinsic+json": {
              "type": "string"
            },
            "text/plain": [
              "\"Built-in immutable sequence.\\n\\nIf no argument is given, the constructor returns an empty tuple.\\nIf iterable is specified the tuple is initialized from iterable's items.\\n\\nIf the argument is a tuple, the return value is the same object.\""
            ]
          },
          "metadata": {},
          "execution_count": 11
        }
      ]
    },
    {
      "cell_type": "code",
      "metadata": {
        "id": "ImmdFuF4RB16"
      },
      "source": [
        ""
      ],
      "execution_count": null,
      "outputs": []
    }
  ]
}