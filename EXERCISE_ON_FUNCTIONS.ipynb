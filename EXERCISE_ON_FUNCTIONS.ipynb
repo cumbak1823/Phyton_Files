{
  "nbformat": 4,
  "nbformat_minor": 0,
  "metadata": {
    "colab": {
      "name": "EXERCISE ON FUNCTIONS.ipynb",
      "provenance": [],
      "authorship_tag": "ABX9TyNDjv2iKmN+oYuvWc/27E2a",
      "include_colab_link": true
    },
    "kernelspec": {
      "name": "python3",
      "display_name": "Python 3"
    },
    "language_info": {
      "name": "python"
    }
  },
  "cells": [
    {
      "cell_type": "markdown",
      "metadata": {
        "id": "view-in-github",
        "colab_type": "text"
      },
      "source": [
        "<a href=\"https://colab.research.google.com/github/cumbak1823/Phyton_Files/blob/master/EXERCISE_ON_FUNCTIONS.ipynb\" target=\"_parent\"><img src=\"https://colab.research.google.com/assets/colab-badge.svg\" alt=\"Open In Colab\"/></a>"
      ]
    },
    {
      "cell_type": "code",
      "metadata": {
        "id": "-YdD2L0gr6gi"
      },
      "source": [
        "def buyuk_kucuk(girdi):\n",
        "  if girdi == girdi.upper() or girdi == girdi.lower():\n",
        "    return True\n",
        "  else:\n",
        "    return False  "
      ],
      "execution_count": null,
      "outputs": []
    },
    {
      "cell_type": "code",
      "metadata": {
        "colab": {
          "base_uri": "https://localhost:8080/"
        },
        "id": "XP9oN7H94Q_X",
        "outputId": "b29ae379-dcdd-4390-85de-de730ebab2ca"
      },
      "source": [
        "buyuk_kucuk(\"Hakan\")"
      ],
      "execution_count": null,
      "outputs": [
        {
          "output_type": "execute_result",
          "data": {
            "text/plain": [
              "False"
            ]
          },
          "metadata": {},
          "execution_count": 2
        }
      ]
    },
    {
      "cell_type": "code",
      "metadata": {
        "colab": {
          "base_uri": "https://localhost:8080/"
        },
        "id": "bcJR2SE04XRn",
        "outputId": "ffb94bad-e86d-4fb0-aa75-1ee0bee14b10"
      },
      "source": [
        "buyuk_kucuk(\"hakan\")"
      ],
      "execution_count": null,
      "outputs": [
        {
          "output_type": "execute_result",
          "data": {
            "text/plain": [
              "True"
            ]
          },
          "metadata": {},
          "execution_count": 3
        }
      ]
    },
    {
      "cell_type": "code",
      "metadata": {
        "id": "k-1px1kSMluL"
      },
      "source": [
        "def kalansiz (num):\n",
        "  liste=list()\n",
        "  for i in range (1,num+1):\n",
        "    if num%i ==0:\n",
        "      liste.append(i)\n",
        "  print(liste)    "
      ],
      "execution_count": 20,
      "outputs": []
    },
    {
      "cell_type": "code",
      "metadata": {
        "colab": {
          "base_uri": "https://localhost:8080/"
        },
        "id": "BYIg3tF-NG7C",
        "outputId": "63f5897a-dceb-45f4-ad84-64579112bb2c"
      },
      "source": [
        "kalansiz(18)"
      ],
      "execution_count": 21,
      "outputs": [
        {
          "output_type": "stream",
          "name": "stdout",
          "text": [
            "[1, 2, 3, 6, 9, 18]\n"
          ]
        }
      ]
    },
    {
      "cell_type": "code",
      "metadata": {
        "colab": {
          "base_uri": "https://localhost:8080/"
        },
        "id": "yQHRZ3QJOirX",
        "outputId": "1ff08d8c-9b35-4f88-d64a-8b28c93d5813"
      },
      "source": [
        "kalansiz (96)"
      ],
      "execution_count": 22,
      "outputs": [
        {
          "output_type": "stream",
          "name": "stdout",
          "text": [
            "[1, 2, 3, 4, 6, 8, 12, 16, 24, 32, 48, 96]\n"
          ]
        }
      ]
    },
    {
      "cell_type": "code",
      "metadata": {
        "id": "Q0UbVzR1O3DQ"
      },
      "source": [
        "def kalansizbol (num):\n",
        "  return[i for i in range (1,num+1) if num%i==0]"
      ],
      "execution_count": 30,
      "outputs": []
    },
    {
      "cell_type": "code",
      "metadata": {
        "colab": {
          "base_uri": "https://localhost:8080/"
        },
        "id": "1y7OlgIfPR-5",
        "outputId": "565cd29d-5711-46c5-f32c-513ecf59bebf"
      },
      "source": [
        "kalansizbol(250)"
      ],
      "execution_count": 31,
      "outputs": [
        {
          "output_type": "execute_result",
          "data": {
            "text/plain": [
              "[1, 2, 5, 10, 25, 50, 125, 250]"
            ]
          },
          "metadata": {},
          "execution_count": 31
        }
      ]
    }
  ]
}