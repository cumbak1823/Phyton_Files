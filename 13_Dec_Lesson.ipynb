{
  "nbformat": 4,
  "nbformat_minor": 0,
  "metadata": {
    "colab": {
      "name": "13_Dec_Lesson.ipynb",
      "provenance": [],
      "authorship_tag": "ABX9TyMwBTd7ZmnHJ5pngHDVl/rn",
      "include_colab_link": true
    },
    "kernelspec": {
      "name": "python3",
      "display_name": "Python 3"
    },
    "language_info": {
      "name": "python"
    }
  },
  "cells": [
    {
      "cell_type": "markdown",
      "metadata": {
        "id": "view-in-github",
        "colab_type": "text"
      },
      "source": [
        "<a href=\"https://colab.research.google.com/github/cumbak1823/Phyton_Files/blob/master/13_Dec_Lesson.ipynb\" target=\"_parent\"><img src=\"https://colab.research.google.com/assets/colab-badge.svg\" alt=\"Open In Colab\"/></a>"
      ]
    },
    {
      "cell_type": "code",
      "execution_count": 3,
      "metadata": {
        "colab": {
          "base_uri": "https://localhost:8080/"
        },
        "id": "HrrldHZpBpNb",
        "outputId": "b6a83dcc-866d-40ca-dcc2-1d74293306bf"
      },
      "outputs": [
        {
          "output_type": "stream",
          "name": "stdout",
          "text": [
            "The first number please : 4\n",
            "The second number please : 0\n",
            "Something went wrong...Try again.\n",
            "Probably it is because of 'division by zero' error\n"
          ]
        }
      ],
      "source": [
        "while True:\n",
        "    no_one = int(input(\"The first number please : \"))\n",
        "    no_two = int(input(\"The second number please : \"))\n",
        "    try:\n",
        "        division = no_one / no_two\n",
        "        print(\"The result of the division is : \", division)\n",
        "        break\n",
        "    except Exception as e:\n",
        "        print(\"Something went wrong...Try again.\")\n",
        "        print(\"Probably it is because of '{}' error\".format(e))\n",
        "        break"
      ]
    },
    {
      "cell_type": "code",
      "source": [
        "while True:\n",
        "  try:\n",
        "    no_one = int(input(\"The first number please : \"))\n",
        "    no_two = int(input(\"The second number please : \"))\n",
        "   \n",
        "    division = no_one / no_two\n",
        "    print(\"The result of the division is : \", division)\n",
        "    break\n",
        "  except Exception as e:\n",
        "    print(\"Something went wrong...Try again.\")\n",
        "    print(\"Probably it is because of '{}' error\".format(e))\n",
        "    break"
      ],
      "metadata": {
        "colab": {
          "base_uri": "https://localhost:8080/"
        },
        "id": "aylPA7o7ErgK",
        "outputId": "0449ac74-48a1-4a0b-8c68-a136a3c6f28f"
      },
      "execution_count": 4,
      "outputs": [
        {
          "output_type": "stream",
          "name": "stdout",
          "text": [
            "The first number please : 5\n",
            "The second number please : bes\n",
            "Something went wrong...Try again.\n",
            "Probably it is because of 'invalid literal for int() with base 10: 'bes'' error\n"
          ]
        }
      ]
    },
    {
      "cell_type": "code",
      "source": [
        "try:\n",
        "  a=10\n",
        "  b=2\n",
        "  print(\"the result is\", c)\n",
        "except Exception as e:\n",
        "    "
      ],
      "metadata": {
        "id": "V0ONaG9eFaiL"
      },
      "execution_count": null,
      "outputs": []
    },
    {
      "cell_type": "code",
      "source": [
        "try:\n",
        "    x = 2/0\n",
        "\n",
        "except ZeroDivisionError:\n",
        "    print('Attempt to divide by zero')\n",
        "except: # attention this line didnt run.\n",
        "    print('Something else went wrong')"
      ],
      "metadata": {
        "colab": {
          "base_uri": "https://localhost:8080/"
        },
        "id": "Y4d4zb5AG-6w",
        "outputId": "4359d714-9b67-45b9-f2b0-1a97f4b408d6"
      },
      "execution_count": 5,
      "outputs": [
        {
          "output_type": "stream",
          "name": "stdout",
          "text": [
            "Attempt to divide by zero\n"
          ]
        }
      ]
    },
    {
      "cell_type": "code",
      "source": [
        "try:\n",
        "    x\n",
        "\n",
        "except ZeroDivisionError:\n",
        "    print('Attempt to divide by zero')\n",
        "except:\n",
        "    print('Something else went wrong') # because a name error raised"
      ],
      "metadata": {
        "colab": {
          "base_uri": "https://localhost:8080/"
        },
        "id": "SiEV-viTLSDi",
        "outputId": "9b93b626-6552-431c-f5b8-81e0f62dc869"
      },
      "execution_count": 6,
      "outputs": [
        {
          "output_type": "stream",
          "name": "stdout",
          "text": [
            "Something else went wrong\n"
          ]
        }
      ]
    },
    {
      "cell_type": "code",
      "source": [
        "try:\n",
        "    x\n",
        "\n",
        "except ZeroDivisionError:\n",
        "    print('Attempt to divide by zero')\n",
        "except NameError:\n",
        "    print('Act with in accordance with Name Error')    \n",
        "except:\n",
        "    print('Something else went wrong')"
      ],
      "metadata": {
        "colab": {
          "base_uri": "https://localhost:8080/"
        },
        "id": "1koYxCdiLl0o",
        "outputId": "f3c5221f-e5b2-4193-e9b1-13a6fa69693a"
      },
      "execution_count": 8,
      "outputs": [
        {
          "output_type": "stream",
          "name": "stdout",
          "text": [
            "Act with in accordance with Name Error\n"
          ]
        }
      ]
    },
    {
      "cell_type": "code",
      "source": [
        "try:\n",
        "   int(\"on\")\n",
        "\n",
        "except ZeroDivisionError:\n",
        "    print('Attempt to divide by zero')\n",
        "except NameError:\n",
        "    print('Act with in accordance with Name Error')    \n",
        "except:\n",
        "    print('Something else went wrong') # Value error raised"
      ],
      "metadata": {
        "colab": {
          "base_uri": "https://localhost:8080/"
        },
        "id": "qJrO2fgSL09I",
        "outputId": "b76607ce-fb1c-462a-8148-eb58d759cead"
      },
      "execution_count": 10,
      "outputs": [
        {
          "output_type": "stream",
          "name": "stdout",
          "text": [
            "Something else went wrong\n"
          ]
        }
      ]
    },
    {
      "cell_type": "code",
      "source": [
        "try:\n",
        "   int(\"on\")\n",
        "\n",
        "except ZeroDivisionError:\n",
        "    print('Attempt to divide by zero')\n",
        "except NameError:\n",
        "    print('Act with in accordance with Name Error')    \n",
        "except (ValueError, TypeError):\n",
        "    print('Act with in accordance with Value and Type Error') "
      ],
      "metadata": {
        "colab": {
          "base_uri": "https://localhost:8080/"
        },
        "id": "sbV3fX19NDFN",
        "outputId": "0190a8e2-7fa7-42ea-fa11-88e384fc22e4"
      },
      "execution_count": 11,
      "outputs": [
        {
          "output_type": "stream",
          "name": "stdout",
          "text": [
            "Act with in accordance with Value and Type Error\n"
          ]
        }
      ]
    },
    {
      "cell_type": "code",
      "source": [
        "fruits = [\"banana\", \"mango\", \"pear\", \"apple\", \"kiwi\", \"grape\"]\n",
        "secim =int(input(\"please enter a number to identify which fruit you like\"))\n",
        "\n",
        "while True:\n",
        "  try:\n",
        "   print(\"my favourite fruit is\", fruits[secim])\n",
        "   break\n",
        "  except(IndexError, ValueError):\n",
        "    print(\" Please make your chioce in accordance with IndexError or ValueError\")\n",
        "    break "
      ],
      "metadata": {
        "colab": {
          "base_uri": "https://localhost:8080/"
        },
        "id": "i6XZN91OMYvC",
        "outputId": "946a337e-110a-47d1-d3ef-a7fd14537fe2"
      },
      "execution_count": 18,
      "outputs": [
        {
          "output_type": "stream",
          "name": "stdout",
          "text": [
            "please enter a number to identify which fruit you like9\n",
            " Please make your chioce in accordance with IndexError or ValueError\n"
          ]
        }
      ]
    },
    {
      "cell_type": "code",
      "source": [
        "fruits = [\"banana\", \"mango\", \"pear\", \"apple\", \"kiwi\", \"grape\"]\n",
        "counter = 3\n",
        "\n",
        "while counter > 0:\n",
        "\n",
        "  try:\n",
        "    print(f\"You have {counter} rights.\")\n",
        "    index = int(input(\"Pick a index number\"))\n",
        "    print(\"Your favorite fruit is\", fruits[index])\n",
        "\n",
        "  except IndexError:\n",
        "    counter -= 1\n",
        "    print(f\"Index error. You have {counter} rights left. try again! \")\n",
        "\n",
        "  except ValueError:\n",
        "    counter -= 1\n",
        "    print(f\"Value error. You have {counter} rights left. try again! \")\n",
        "  else:\n",
        "    print(\"Congrats you have entered valid input\")\n",
        "    break\n",
        "  finally:\n",
        "    print(\"Our fruits are always fresh\")"
      ],
      "metadata": {
        "colab": {
          "base_uri": "https://localhost:8080/"
        },
        "id": "9LVO9o03TqxP",
        "outputId": "790d8d91-e135-40fc-eb30-60adaa25fd6d"
      },
      "execution_count": 24,
      "outputs": [
        {
          "output_type": "stream",
          "name": "stdout",
          "text": [
            "You have 3 rights.\n",
            "Pick a index number6\n",
            "Index error. You have 2 rights left. try again! \n",
            "Our fruits are always fresh\n",
            "You have 2 rights.\n",
            "Pick a index number7\n",
            "Index error. You have 1 rights left. try again! \n",
            "Our fruits are always fresh\n",
            "You have 1 rights.\n",
            "Pick a index number4\n",
            "Your favorite fruit is kiwi\n",
            "congrats you have entered valid input\n",
            "Our fruits are always fresh\n"
          ]
        }
      ]
    },
    {
      "cell_type": "markdown",
      "source": [
        "**Assignment - 10/08 (Letters Count)**\n",
        "\n",
        "Task:\n",
        "\n",
        "Count the number of each letter in a sentence.\n",
        "The department you work for undertook a project construction that makes word / text analysis. You are asked to calculate the number of letters or any chars in the sentences entered under this project.\n",
        "\n",
        "Write a Python program that;\n",
        "\n",
        "takes a sentence from the user,\n",
        "\n",
        "counts the number of each letter of the sentence,\n",
        "\n",
        "collects the letters/chars as a key and the counted numbers as a value in a dictionary."
      ],
      "metadata": {
        "id": "96wWRqcMZxY-"
      }
    },
    {
      "cell_type": "code",
      "source": [
        "word = {1:\"1\", 2: \"2\"}"
      ],
      "metadata": {
        "id": "OCUz1KwcZzH9"
      },
      "execution_count": 25,
      "outputs": []
    },
    {
      "cell_type": "code",
      "source": [
        "keys = word.keys()\n",
        "keys"
      ],
      "metadata": {
        "colab": {
          "base_uri": "https://localhost:8080/"
        },
        "id": "ErnlinPpaM45",
        "outputId": "62aed381-292f-42c8-aa4e-cb2abf880e0d"
      },
      "execution_count": 27,
      "outputs": [
        {
          "output_type": "execute_result",
          "data": {
            "text/plain": [
              "dict_keys([1, 2])"
            ]
          },
          "metadata": {},
          "execution_count": 27
        }
      ]
    },
    {
      "cell_type": "code",
      "source": [
        "word_1 = {}"
      ],
      "metadata": {
        "id": "3yJaCAqiabYK"
      },
      "execution_count": 28,
      "outputs": []
    },
    {
      "cell_type": "code",
      "source": [
        "word_1[3] = 1 # 3 uncu indekse 1 degerini atadik"
      ],
      "metadata": {
        "id": "-CmAu_hSafRF"
      },
      "execution_count": 29,
      "outputs": []
    },
    {
      "cell_type": "code",
      "source": [
        "word_1"
      ],
      "metadata": {
        "colab": {
          "base_uri": "https://localhost:8080/"
        },
        "id": "dhXG6HvAamdf",
        "outputId": "45ff45cd-3f3f-4a32-fc06-400e99508d83"
      },
      "execution_count": 30,
      "outputs": [
        {
          "output_type": "execute_result",
          "data": {
            "text/plain": [
              "{3: 1}"
            ]
          },
          "metadata": {},
          "execution_count": 30
        }
      ]
    },
    {
      "cell_type": "code",
      "source": [
        "word_1[\"Ali\"] = \"Deli\""
      ],
      "metadata": {
        "id": "0RQto5H0aveF"
      },
      "execution_count": 31,
      "outputs": []
    },
    {
      "cell_type": "code",
      "source": [
        "word_1"
      ],
      "metadata": {
        "colab": {
          "base_uri": "https://localhost:8080/"
        },
        "id": "1D55UB7ra3CN",
        "outputId": "c2de079d-d1d7-4cc3-d210-4168454a6842"
      },
      "execution_count": 32,
      "outputs": [
        {
          "output_type": "execute_result",
          "data": {
            "text/plain": [
              "{3: 1, 'Ali': 'Deli'}"
            ]
          },
          "metadata": {},
          "execution_count": 32
        }
      ]
    },
    {
      "cell_type": "code",
      "source": [
        "veri = \"hippo runs to us\"\n",
        "a = list(veri)\n",
        "a"
      ],
      "metadata": {
        "colab": {
          "base_uri": "https://localhost:8080/"
        },
        "id": "suvagVZCbe2P",
        "outputId": "44238e6f-f25f-40d8-c55c-0bfa03d799d2"
      },
      "execution_count": 33,
      "outputs": [
        {
          "output_type": "execute_result",
          "data": {
            "text/plain": [
              "['h',\n",
              " 'i',\n",
              " 'p',\n",
              " 'p',\n",
              " 'o',\n",
              " ' ',\n",
              " 'r',\n",
              " 'u',\n",
              " 'n',\n",
              " 's',\n",
              " ' ',\n",
              " 't',\n",
              " 'o',\n",
              " ' ',\n",
              " 'u',\n",
              " 's']"
            ]
          },
          "metadata": {},
          "execution_count": 33
        }
      ]
    },
    {
      "cell_type": "code",
      "source": [
        "word_1['i']=1\n",
        "word_1"
      ],
      "metadata": {
        "colab": {
          "base_uri": "https://localhost:8080/"
        },
        "id": "Kin5wOHZbxqa",
        "outputId": "53eaa305-0fc8-461e-9a21-98c9d0dab99c"
      },
      "execution_count": 62,
      "outputs": [
        {
          "output_type": "execute_result",
          "data": {
            "text/plain": [
              "{3: 1, 'Ali': 'Deli', 'i': 1}"
            ]
          },
          "metadata": {},
          "execution_count": 62
        }
      ]
    },
    {
      "cell_type": "code",
      "source": [
        "i in word_1"
      ],
      "metadata": {
        "colab": {
          "base_uri": "https://localhost:8080/"
        },
        "id": "GGoTyZzUcT1A",
        "outputId": "8086b5a2-d892-47b9-ad27-ec64f380a374"
      },
      "execution_count": 63,
      "outputs": [
        {
          "output_type": "execute_result",
          "data": {
            "text/plain": [
              "False"
            ]
          },
          "metadata": {},
          "execution_count": 63
        }
      ]
    },
    {
      "cell_type": "code",
      "source": [
        "word_1[\"i\"] = word_1[\"i\"] + 1"
      ],
      "metadata": {
        "id": "VmznaHDvcc3-"
      },
      "execution_count": 64,
      "outputs": []
    },
    {
      "cell_type": "code",
      "source": [
        "string = \" Bugün hüzünlüyüm. Ayrılık yakın. 2 session sonra\"\n",
        "\n",
        "word_dict = {}\n",
        "\n",
        "for n in string:\n",
        "  if n in word_dict:\n",
        "    word_dict[n] +=1\n",
        "\n",
        "  else:\n",
        "    word_dict[n] = 1\n",
        "\n",
        "print(word_dict)"
      ],
      "metadata": {
        "colab": {
          "base_uri": "https://localhost:8080/"
        },
        "id": "SXMmkjWvcmr6",
        "outputId": "188de4b2-2273-4341-cda8-38aacb4f2252"
      },
      "execution_count": 39,
      "outputs": [
        {
          "output_type": "stream",
          "name": "stdout",
          "text": [
            "{' ': 7, 'B': 1, 'u': 1, 'g': 1, 'ü': 5, 'n': 5, 'h': 1, 'z': 1, 'l': 2, 'y': 3, 'm': 1, '.': 2, 'A': 1, 'r': 2, 'ı': 3, 'k': 2, 'a': 2, '2': 1, 's': 4, 'e': 1, 'i': 1, 'o': 2}\n"
          ]
        }
      ]
    },
    {
      "cell_type": "code",
      "source": [
        "veri = [\"a\", \"b\", True, (False, 1), {\"1\" : 2}, [1,2], {\"2\" : \"two\"}, {2, \"3\"}, \"c\", 23, 0]"
      ],
      "metadata": {
        "id": "O6dUo8-hd5bA"
      },
      "execution_count": 39,
      "outputs": []
    },
    {
      "cell_type": "code",
      "source": [
        "tipler = [\"int\", \"str\", \"bool\", \"list\", \"tuple\", \"dict\", \"set\"]"
      ],
      "metadata": {
        "id": "2l1iWnXBeSOz"
      },
      "execution_count": null,
      "outputs": []
    },
    {
      "cell_type": "code",
      "source": [
        "my_dict = {}\n",
        "\n",
        "for n in veri:\n",
        "  m = type(n)\n",
        "  if m in veri:\n",
        "    veri[n] +=1\n",
        "  else:\n",
        "    veri[n] = 1  "
      ],
      "metadata": {
        "id": "GltZDiKwekDP"
      },
      "execution_count": null,
      "outputs": []
    },
    {
      "cell_type": "code",
      "source": [
        "tipler = [\"int\", \"str\", \"bool\", \"list\", \"tuple\", \"dict\", \"set\"]\n",
        "veri = [\"a\", \"b\", True, (False, 1), {\"1\" : 2}, [1,2], {\"2\" : \"two\"}, {2, \"3\"}, \"c\", 23, 0]\n",
        "\n",
        "\n",
        "{}.fromkeys(tipler, 0) # tiplerdeki her bir eleman keys oldu"
      ],
      "metadata": {
        "colab": {
          "base_uri": "https://localhost:8080/"
        },
        "id": "yoHtvwe3fZ4F",
        "outputId": "ea2bc0c0-0e1c-4ba4-8992-1f2295fbe77e"
      },
      "execution_count": 42,
      "outputs": [
        {
          "output_type": "execute_result",
          "data": {
            "text/plain": [
              "{'bool': 0, 'dict': 0, 'int': 0, 'list': 0, 'set': 0, 'str': 0, 'tuple': 0}"
            ]
          },
          "metadata": {},
          "execution_count": 42
        }
      ]
    },
    {
      "cell_type": "code",
      "source": [
        "len(veri)"
      ],
      "metadata": {
        "colab": {
          "base_uri": "https://localhost:8080/"
        },
        "id": "v5onRXoGf4t2",
        "outputId": "54fdf186-7e47-4740-c20c-0161cb541fbe"
      },
      "execution_count": 44,
      "outputs": [
        {
          "output_type": "execute_result",
          "data": {
            "text/plain": [
              "16"
            ]
          },
          "metadata": {},
          "execution_count": 44
        }
      ]
    },
    {
      "cell_type": "code",
      "source": [
        "type(veri[0])"
      ],
      "metadata": {
        "colab": {
          "base_uri": "https://localhost:8080/"
        },
        "id": "1m6E0XTCf9uv",
        "outputId": "b37a677d-636d-446d-c772-a928dc60c451"
      },
      "execution_count": 46,
      "outputs": [
        {
          "output_type": "execute_result",
          "data": {
            "text/plain": [
              "str"
            ]
          },
          "metadata": {},
          "execution_count": 46
        }
      ]
    },
    {
      "cell_type": "code",
      "source": [
        "type(veri[5]) == list"
      ],
      "metadata": {
        "colab": {
          "base_uri": "https://localhost:8080/"
        },
        "id": "0V3e66ycgB88",
        "outputId": "bcf78fdd-7f2a-4852-b1a6-3dd236ff23b1"
      },
      "execution_count": 53,
      "outputs": [
        {
          "output_type": "execute_result",
          "data": {
            "text/plain": [
              "False"
            ]
          },
          "metadata": {},
          "execution_count": 53
        }
      ]
    },
    {
      "cell_type": "code",
      "source": [
        "type(veri[5]) == str"
      ],
      "metadata": {
        "colab": {
          "base_uri": "https://localhost:8080/"
        },
        "id": "iUHNcTi5gOfW",
        "outputId": "ecbb0387-894e-4fac-c30f-6c4fad3b0e67"
      },
      "execution_count": 49,
      "outputs": [
        {
          "output_type": "execute_result",
          "data": {
            "text/plain": [
              "True"
            ]
          },
          "metadata": {},
          "execution_count": 49
        }
      ]
    },
    {
      "cell_type": "code",
      "source": [
        "toplam = {}.fromkeys(tipler, 0)\n",
        "\n",
        "\n",
        "for i in range(len(veri)):\n",
        "  if type(veri[i]) == int: toplam[\"int\"] +=1\n",
        "  if type(veri[i]) == str: toplam[\"str\"] +=1\n",
        "  if type(veri[i]) == bool: toplam[\"bool\"] +=1\n",
        "  if type(veri[i]) == list: toplam[\"list\"] +=1\n",
        "  if type(veri[i]) == tuple: toplam[\"tuple\"] +=1\n",
        "  if type(veri[i]) == set: toplam[\"set\"] +=1\n",
        "print(toplam)"
      ],
      "metadata": {
        "colab": {
          "base_uri": "https://localhost:8080/"
        },
        "id": "VuFZ5TAdgToW",
        "outputId": "07a048fb-9e79-4a42-c978-41fe50e61187"
      },
      "execution_count": 65,
      "outputs": [
        {
          "output_type": "stream",
          "name": "stdout",
          "text": [
            "{'int': 0, 'str': 16, 'bool': 0, 'list': 0, 'tuple': 0, 'dict': 0, 'set': 0}\n"
          ]
        }
      ]
    },
    {
      "cell_type": "markdown",
      "source": [
        "**READING FILES**"
      ],
      "metadata": {
        "id": "pwYi4EP-jHkp"
      }
    },
    {
      "cell_type": "code",
      "source": [
        "import os"
      ],
      "metadata": {
        "id": "xY9aqBt7jLcW"
      },
      "execution_count": 56,
      "outputs": []
    },
    {
      "cell_type": "code",
      "source": [
        "dosya_icerigi = os.listdir()"
      ],
      "metadata": {
        "id": "DG5JlTV9jSGk"
      },
      "execution_count": 57,
      "outputs": []
    },
    {
      "cell_type": "code",
      "source": [
        "dosya_icerigi"
      ],
      "metadata": {
        "colab": {
          "base_uri": "https://localhost:8080/"
        },
        "id": "jViVmz1njX9y",
        "outputId": "9dc6d190-60e5-4c4b-cd65-a2a2dd61ad13"
      },
      "execution_count": 58,
      "outputs": [
        {
          "output_type": "execute_result",
          "data": {
            "text/plain": [
              "['.config', 'sample_data']"
            ]
          },
          "metadata": {},
          "execution_count": 58
        }
      ]
    },
    {
      "cell_type": "code",
      "source": [
        "import shutil"
      ],
      "metadata": {
        "id": "OtUkamP3jmi3"
      },
      "execution_count": 59,
      "outputs": []
    },
    {
      "cell_type": "code",
      "source": [
        "shutil.make_archieve(xxxxxx) # zip yapar"
      ],
      "metadata": {
        "id": "9PWjw7cIjr28"
      },
      "execution_count": null,
      "outputs": []
    },
    {
      "cell_type": "code",
      "source": [
        "pwd"
      ],
      "metadata": {
        "colab": {
          "base_uri": "https://localhost:8080/",
          "height": 37
        },
        "id": "KceIeTGakqqi",
        "outputId": "80c38e54-2538-43b8-b17b-9a23ef3c2266"
      },
      "execution_count": 60,
      "outputs": [
        {
          "output_type": "execute_result",
          "data": {
            "application/vnd.google.colaboratory.intrinsic+json": {
              "type": "string"
            },
            "text/plain": [
              "'/content'"
            ]
          },
          "metadata": {},
          "execution_count": 60
        }
      ]
    },
    {
      "cell_type": "code",
      "source": [
        "# file - path-like object (representing a file system path)\n",
        "# mode (optional) - mode while opening a file. If not provided, it defaults to 'r' (open for reading in text mode). Available file modes are:\n",
        "# ModeDescription\n",
        "# 'r'Open a file for reading. (default)\n",
        "# 'w'Open a file for writing. Creates a new file if it does not exist or truncates the file if it exists.\n",
        "# 'x'Open a file for exclusive creation. If the file already exists, the operation fails.\n",
        "# 'a'Open for appending at the end of the file without truncating it. Creates a new file if it does not exist.\n",
        "# 't'Open in text mode. (default)'b'Open in binary mode.\n",
        "# '+'Open a file for updating (reading and writing)\n",
        "# buffering (optional) - used for setting buffering policy\n",
        "# encoding (optional) - the encoding format\n",
        "# errors (optional) - string specifying how to handle encoding/decoding errors\n",
        "# newline (optional) - how newlines mode works (available values: None, ' ', '\\n', 'r', and '\\r\\n'\n",
        "# closefd (optional) - must be True (default); if given otherwise, an exception will be raised\n",
        "# opener (optional) - a custom opener; must return an open file descriptor"
      ],
      "metadata": {
        "id": "_vDASOJjj8_n"
      },
      "execution_count": null,
      "outputs": []
    }
  ]
}