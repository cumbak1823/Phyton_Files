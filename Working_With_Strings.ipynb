{
  "nbformat": 4,
  "nbformat_minor": 0,
  "metadata": {
    "colab": {
      "name": "Working_With_Strings.ipynb",
      "provenance": [],
      "authorship_tag": "ABX9TyOQMvGPcX+a1fTnFfAi5VOW",
      "include_colab_link": true
    },
    "kernelspec": {
      "name": "python3",
      "display_name": "Python 3"
    },
    "language_info": {
      "name": "python"
    }
  },
  "cells": [
    {
      "cell_type": "markdown",
      "metadata": {
        "id": "view-in-github",
        "colab_type": "text"
      },
      "source": [
        "<a href=\"https://colab.research.google.com/github/cumbak1823/Phyton_Files/blob/master/Working_With_Strings.ipynb\" target=\"_parent\"><img src=\"https://colab.research.google.com/assets/colab-badge.svg\" alt=\"Open In Colab\"/></a>"
      ]
    },
    {
      "cell_type": "code",
      "source": [
        "fruit = \"orange\"\n",
        "amount = 5\n",
        "\n",
        "print(\"we bought {} kilos of {} from grocery\" .format(amount, fruit))"
      ],
      "metadata": {
        "colab": {
          "base_uri": "https://localhost:8080/"
        },
        "id": "iCkvBiCBPG2w",
        "outputId": "0a5ef970-c938-42a9-8ee2-ea1022f83a65"
      },
      "execution_count": 5,
      "outputs": [
        {
          "output_type": "stream",
          "name": "stdout",
          "text": [
            "we bought 5 kilos of orange from grocery\n"
          ]
        }
      ]
    },
    {
      "cell_type": "code",
      "source": [
        "print('{state} is the most {adjective} state of the {country}'.format(state='California', country='USA', adjective='crowded'))"
      ],
      "metadata": {
        "colab": {
          "base_uri": "https://localhost:8080/"
        },
        "id": "RQQNZoKEQFbb",
        "outputId": "7931b88d-b559-4bfb-c20b-40361aed5f90"
      },
      "execution_count": 6,
      "outputs": [
        {
          "output_type": "stream",
          "name": "stdout",
          "text": [
            "California is the most crowded state of the USA\n"
          ]
        }
      ]
    },
    {
      "cell_type": "code",
      "source": [
        "print(\"{state} is the most {adjective} state of the {country}\".format(state = \"California\", adjective = \"Crowded\", country = \"USA\"))"
      ],
      "metadata": {
        "colab": {
          "base_uri": "https://localhost:8080/"
        },
        "id": "7VH5lKZ6QRff",
        "outputId": "b2af04f7-675d-41b1-b1f2-6cf80975dce0"
      },
      "execution_count": 10,
      "outputs": [
        {
          "output_type": "stream",
          "name": "stdout",
          "text": [
            "California is the most Crowded state of the USA\n"
          ]
        }
      ]
    },
    {
      "cell_type": "code",
      "source": [
        "print('{1} {0} {3} {2}'.format('wish', 'I', 'a fish', 'You were'))"
      ],
      "metadata": {
        "colab": {
          "base_uri": "https://localhost:8080/"
        },
        "id": "ppEZ52tDRxCq",
        "outputId": "394baac2-b309-43ef-9050-1e79d7c462fc"
      },
      "execution_count": 18,
      "outputs": [
        {
          "output_type": "stream",
          "name": "stdout",
          "text": [
            "I wish You were a fish\n"
          ]
        }
      ]
    },
    {
      "cell_type": "code",
      "source": [
        "print(\"{6} {0} {5} {3} {4} {1} {2}\".format('have', 6, 'months', 'a job', 'in', 'found', 'I will'))"
      ],
      "metadata": {
        "colab": {
          "base_uri": "https://localhost:8080/"
        },
        "id": "AWZMh_d5TBn9",
        "outputId": "56cf23fd-5225-4f1e-eded-9af36f961da4"
      },
      "execution_count": 16,
      "outputs": [
        {
          "output_type": "stream",
          "name": "stdout",
          "text": [
            "I will have found a job in 6 months\n"
          ]
        }
      ]
    },
    {
      "cell_type": "code",
      "source": [
        "print('{1} {0} {3} {2}'.format('wish', 'I', 'a fish', 'You were'))"
      ],
      "metadata": {
        "id": "WjviOnbXTwwM"
      },
      "execution_count": null,
      "outputs": []
    },
    {
      "cell_type": "code",
      "source": [
        "print('{9} {7} {1} {10} {3} {2} {5} {8} {6} {0} {4}'.format('in', 'know', 'bring', 'to', 'students.', 'out', 'best', 'teachers', 'the', 'Good', 'how'))"
      ],
      "metadata": {
        "colab": {
          "base_uri": "https://localhost:8080/"
        },
        "id": "JP4nbt7zXMrX",
        "outputId": "60ac9c2a-f6f4-44c1-fd85-c66962197ca0"
      },
      "execution_count": 21,
      "outputs": [
        {
          "output_type": "stream",
          "name": "stdout",
          "text": [
            "Good teachers know how to bring out the best in students.\n"
          ]
        }
      ]
    },
    {
      "cell_type": "code",
      "source": [
        "fruit = 'Orange'\n",
        "vegetable = 'Tomato'\n",
        "amount = 6\n",
        "output = f\"The amount of {fruit} and {vegetable} we bought are totally {amount} pounds\"\n",
        "\n",
        "print(output)"
      ],
      "metadata": {
        "colab": {
          "base_uri": "https://localhost:8080/"
        },
        "id": "ilHkGB90bbv_",
        "outputId": "93e669d3-35f7-4435-aefb-2672b3ac7a6e"
      },
      "execution_count": 23,
      "outputs": [
        {
          "output_type": "stream",
          "name": "stdout",
          "text": [
            "The amount of Orange and Tomato we bought are totally 6 pounds\n"
          ]
        }
      ]
    },
    {
      "cell_type": "code",
      "source": [
        "fruit = 'Orange'\n",
        "vegetable = 'Tomato'\n",
        "amount = 6\n",
        "alis = f\"The amount of {fruit} and {vegetable} we bought from grocery is {amount} kilos.\"\n",
        "print(alis)"
      ],
      "metadata": {
        "colab": {
          "base_uri": "https://localhost:8080/"
        },
        "id": "I8nv1gI1bt_a",
        "outputId": "a567f582-c5c6-4453-d3d5-ada0f1f13c67"
      },
      "execution_count": 27,
      "outputs": [
        {
          "output_type": "stream",
          "name": "stdout",
          "text": [
            "The amount of Orange and Tomato we bought from grocery is 6 kilos.\n"
          ]
        }
      ]
    },
    {
      "cell_type": "code",
      "source": [
        "my_name = \"HAKAN\"\n",
        "isim = f\"My name is {my_name.capitalize()}\"\n",
        "print(isim)"
      ],
      "metadata": {
        "colab": {
          "base_uri": "https://localhost:8080/"
        },
        "id": "xloAiXcNbyE4",
        "outputId": "d19f7f48-a9e3-45a4-d0a5-d44ce1d38843"
      },
      "execution_count": 31,
      "outputs": [
        {
          "output_type": "stream",
          "name": "stdout",
          "text": [
            "My name is Hakan\n"
          ]
        }
      ]
    },
    {
      "cell_type": "code",
      "source": [
        "name = \"Hakan\"\n",
        "position = \"AWS/DEVOPs\"\n",
        "company = \" Amazon\"\n",
        "\n",
        "message=(\n",
        "    f\"Hi {name}.\"\n",
        "    f\"You were chosen as {position} engineer\"\n",
        "    f\" at {company} Company.\"\n",
        ")\n",
        "print(message)"
      ],
      "metadata": {
        "colab": {
          "base_uri": "https://localhost:8080/"
        },
        "id": "YQcDRwJZccgN",
        "outputId": "0e21dcde-2c35-4b69-b62d-28ba083c0ff9"
      },
      "execution_count": 33,
      "outputs": [
        {
          "output_type": "stream",
          "name": "stdout",
          "text": [
            "Hi Hakan.You were chosen as AWS/DEVOPs engineer at  Amazon Company.\n"
          ]
        }
      ]
    },
    {
      "cell_type": "code",
      "source": [
        "girdi = \"Karanlik bir gece\"\n",
        "# print(girdi.startswith(\"K\"))\n",
        "# print(girdi.endswith(\"yım\"))\n",
        "# print(girdi.startswith(\"Y\", 19))\n",
        "print(girdi.endswith(\"c\", 1,15))"
      ],
      "metadata": {
        "colab": {
          "base_uri": "https://localhost:8080/"
        },
        "id": "JUe5XY5whP3x",
        "outputId": "527a6d67-14bf-4067-a403-5c44b7b6b869"
      },
      "execution_count": 44,
      "outputs": [
        {
          "output_type": "stream",
          "name": "stdout",
          "text": [
            "False\n"
          ]
        }
      ]
    },
    {
      "cell_type": "code",
      "source": [
        "email = \"clarusway@clarusway.com is my e-mail address\"\n",
        "print(email.startswith(\"@\", 9))\n",
        "print(email.endswith(\"-\", 10, 32))"
      ],
      "metadata": {
        "id": "RyK-FmPRjbwI"
      },
      "execution_count": null,
      "outputs": []
    },
    {
      "cell_type": "code",
      "source": [
        "phrase = \"myemailaddress@clarusway.com\"\n",
        "\n",
        "print(len(phrase))\n",
        "print(phrase.startswith(\"@\", 14))\n",
        "print(phrase.endswith(\".\", 15, 24))"
      ],
      "metadata": {
        "colab": {
          "base_uri": "https://localhost:8080/"
        },
        "id": "ua1XAgookxIf",
        "outputId": "77d249bb-d77e-4575-c580-afa7adc42cf5"
      },
      "execution_count": 45,
      "outputs": [
        {
          "output_type": "stream",
          "name": "stdout",
          "text": [
            "28\n",
            "True\n",
            "False\n"
          ]
        }
      ]
    },
    {
      "cell_type": "code",
      "source": [
        "space_string = \"     listen first      \"\n",
        "print(space_string.strip())"
      ],
      "metadata": {
        "colab": {
          "base_uri": "https://localhost:8080/"
        },
        "id": "KICj-FZGmHpw",
        "outputId": "c30ee416-e6ee-4fea-b163-47c9942bee45"
      },
      "execution_count": 46,
      "outputs": [
        {
          "output_type": "stream",
          "name": "stdout",
          "text": [
            "listen first\n"
          ]
        }
      ]
    },
    {
      "cell_type": "code",
      "source": [
        "source_string = \"interoperability\"\n",
        "print(source_string.strip(\"yi\"))  \n",
        "# removes trailing \"y\" or \"i\" or \"yi\" or \"iy\" from both sides"
      ],
      "metadata": {
        "colab": {
          "base_uri": "https://localhost:8080/"
        },
        "id": "65bvR2oImTs3",
        "outputId": "0423d578-53db-4760-da11-8627db2339be"
      },
      "execution_count": 47,
      "outputs": [
        {
          "output_type": "stream",
          "name": "stdout",
          "text": [
            "nteroperabilit\n"
          ]
        }
      ]
    },
    {
      "cell_type": "code",
      "source": [
        "source_string = \"interoperability\"\n",
        "print(source_string.lstrip(\"in\"))  \n",
        "# removes \"i\" or \"n\" or \"in\" or \"ni\" from the left side"
      ],
      "metadata": {
        "colab": {
          "base_uri": "https://localhost:8080/"
        },
        "id": "h5UxP4rhmeek",
        "outputId": "d062b1ce-1928-4311-f1ae-50521ff7d148"
      },
      "execution_count": 48,
      "outputs": [
        {
          "output_type": "stream",
          "name": "stdout",
          "text": [
            "teroperability\n"
          ]
        }
      ]
    },
    {
      "cell_type": "code",
      "source": [
        "space_string = \"     listen first      \"\n",
        "print(space_string.rstrip())  # removes spaces from the right side"
      ],
      "metadata": {
        "colab": {
          "base_uri": "https://localhost:8080/"
        },
        "id": "ZgPFNW-ImpnH",
        "outputId": "40dc1195-ccd9-4181-9a79-d54ff0cec99b"
      },
      "execution_count": 49,
      "outputs": [
        {
          "output_type": "stream",
          "name": "stdout",
          "text": [
            "     listen first\n"
          ]
        }
      ]
    },
    {
      "cell_type": "code",
      "source": [
        "source_string = \"interoperability\"\n",
        "print(source_string.count(\"i\")) # it counts specific string or query"
      ],
      "metadata": {
        "colab": {
          "base_uri": "https://localhost:8080/"
        },
        "id": "vjoodJ_an1M5",
        "outputId": "d4240d78-90fe-4a69-c954-e2d705b62fa7"
      },
      "execution_count": 50,
      "outputs": [
        {
          "output_type": "stream",
          "name": "stdout",
          "text": [
            "3\n"
          ]
        }
      ]
    },
    {
      "cell_type": "code",
      "source": [
        "print('www', 'clarusway', \"com\", sep='.', end=' ')\n",
        "print('will', end=' ')\n",
        "print('open', end=' ')\n",
        "print('your', end=' ')\n",
        "print('path', end='.')"
      ],
      "metadata": {
        "colab": {
          "base_uri": "https://localhost:8080/"
        },
        "id": "dMrKweE2pqZt",
        "outputId": "a500e40f-0140-486b-be30-63eadfc5f7cc"
      },
      "execution_count": 51,
      "outputs": [
        {
          "output_type": "stream",
          "name": "stdout",
          "text": [
            "www.clarusway.com will open your path."
          ]
        }
      ]
    },
    {
      "cell_type": "code",
      "source": [
        "print(\"clarusway\" + \"2020\")"
      ],
      "metadata": {
        "colab": {
          "base_uri": "https://localhost:8080/"
        },
        "id": "VNo89K56p6Ge",
        "outputId": "2b632b5d-e3b2-444b-ec7b-da59cefe6792"
      },
      "execution_count": 52,
      "outputs": [
        {
          "output_type": "stream",
          "name": "stdout",
          "text": [
            "clarusway2020\n"
          ]
        }
      ]
    },
    {
      "cell_type": "code",
      "source": [
        "x = 12\n",
        "y = x + 21\n",
        "x = 2\n",
        "print(y//x)"
      ],
      "metadata": {
        "colab": {
          "base_uri": "https://localhost:8080/"
        },
        "id": "f58Qy7H0qjxk",
        "outputId": "874f4a73-c9ba-4ded-c1e0-f8af73f72aec"
      },
      "execution_count": 53,
      "outputs": [
        {
          "output_type": "stream",
          "name": "stdout",
          "text": [
            "16\n"
          ]
        }
      ]
    },
    {
      "cell_type": "code",
      "source": [
        "print(\"{4} {9} {1} {7} {5} {0} {6} {8} {3} {2}\".format('while', 'dream', 'work.', 'and', 'Some', 'success', 'others', 'of', 'wake up', 'people'))"
      ],
      "metadata": {
        "colab": {
          "base_uri": "https://localhost:8080/"
        },
        "id": "BwZD7ttOsNis",
        "outputId": "6018c7dd-5991-4db9-ebb1-e70766763a24"
      },
      "execution_count": 54,
      "outputs": [
        {
          "output_type": "stream",
          "name": "stdout",
          "text": [
            "Some people dream of success while others wake up and work.\n"
          ]
        }
      ]
    },
    {
      "cell_type": "code",
      "source": [
        "print(not None or 9)"
      ],
      "metadata": {
        "colab": {
          "base_uri": "https://localhost:8080/"
        },
        "id": "7p-mN855seae",
        "outputId": "e584efeb-9df8-40b1-a9df-a85dbadc64ab"
      },
      "execution_count": 57,
      "outputs": [
        {
          "output_type": "stream",
          "name": "stdout",
          "text": [
            "True\n"
          ]
        }
      ]
    },
    {
      "cell_type": "code",
      "source": [
        "print(\"{3} {2} {4} {1} {0}\".format('job.', 'a', 'will', 'I', 'find'))"
      ],
      "metadata": {
        "colab": {
          "base_uri": "https://localhost:8080/"
        },
        "id": "LZnIh8-TtD3Q",
        "outputId": "962c9e2e-7d18-4d10-aa3d-4266f84a8aa3"
      },
      "execution_count": 59,
      "outputs": [
        {
          "output_type": "stream",
          "name": "stdout",
          "text": [
            "I will find a job.\n"
          ]
        }
      ]
    },
    {
      "cell_type": "code",
      "source": [
        "section_3_5 = \"python data types and useful operations\"\n",
        "print(section_3_5.title())"
      ],
      "metadata": {
        "colab": {
          "base_uri": "https://localhost:8080/"
        },
        "id": "v7sryICatknS",
        "outputId": "26ec2bba-d72c-4f6c-875f-6eea68fc1584"
      },
      "execution_count": 60,
      "outputs": [
        {
          "output_type": "stream",
          "name": "stdout",
          "text": [
            "Python Data Types And Useful Operations\n"
          ]
        }
      ]
    },
    {
      "cell_type": "code",
      "source": [
        "print(False and {0} or [])"
      ],
      "metadata": {
        "colab": {
          "base_uri": "https://localhost:8080/"
        },
        "id": "dAybPI_EuG9s",
        "outputId": "78801e56-324a-4037-fc83-29ca145a034d"
      },
      "execution_count": 61,
      "outputs": [
        {
          "output_type": "stream",
          "name": "stdout",
          "text": [
            "[]\n"
          ]
        }
      ]
    },
    {
      "cell_type": "code",
      "source": [
        "print(float(\"140\" * int(input(\"Enter a number:\" ))))"
      ],
      "metadata": {
        "colab": {
          "base_uri": "https://localhost:8080/"
        },
        "id": "Vn7-w6Mguh-3",
        "outputId": "2aae026a-1344-4f5b-b409-10f3a17511cf"
      },
      "execution_count": 63,
      "outputs": [
        {
          "output_type": "stream",
          "name": "stdout",
          "text": [
            "Enter a number:2\n",
            "140140.0\n"
          ]
        }
      ]
    },
    {
      "cell_type": "code",
      "source": [
        "print(int(\"5\" + \"1\"))\n",
        "print(str(\"5\" + \"1\"))\n",
        "print(\"5\" + \"1\")"
      ],
      "metadata": {
        "colab": {
          "base_uri": "https://localhost:8080/"
        },
        "id": "eg8lvnYau983",
        "outputId": "26364cd9-e1a3-4065-ca74-417b2848bec0"
      },
      "execution_count": 64,
      "outputs": [
        {
          "output_type": "stream",
          "name": "stdout",
          "text": [
            "51\n",
            "51\n",
            "51\n"
          ]
        }
      ]
    },
    {
      "cell_type": "markdown",
      "source": [
        "sentence = \"The less you sleep and eat, the better your life will be.\""
      ],
      "metadata": {
        "id": "nMJlLoe1vJ2W"
      }
    },
    {
      "cell_type": "code",
      "source": [
        "var1 = \"sleep\"\n",
        "var2 = \"eat\"\n",
        "var3 = \"better\"\n",
        "var4 = \"life\"\n",
        "\n",
        "sentence = f\"The less you {var1} and {var2}, the {var3} your {var4} will be.\"\n",
        "print(sentence)"
      ],
      "metadata": {
        "colab": {
          "base_uri": "https://localhost:8080/"
        },
        "id": "9gaemX3PvNkt",
        "outputId": "34c19a59-e1d1-4a7b-afab-07888d2ea57e"
      },
      "execution_count": 65,
      "outputs": [
        {
          "output_type": "stream",
          "name": "stdout",
          "text": [
            "The less you sleep and eat, the better your life will be.\n"
          ]
        }
      ]
    },
    {
      "cell_type": "code",
      "source": [
        "city = \"SARAJEVO\"\n",
        "sorgu = f\"I live in {city.capitalize()}.\"\n",
        "print(sorgu)"
      ],
      "metadata": {
        "colab": {
          "base_uri": "https://localhost:8080/"
        },
        "id": "aNJXXWrpwVGj",
        "outputId": "6406919e-e07e-41c1-8bd6-3e3b0652f93a"
      },
      "execution_count": 67,
      "outputs": [
        {
          "output_type": "stream",
          "name": "stdout",
          "text": [
            "I live in Sarajevo.\n"
          ]
        }
      ]
    },
    {
      "cell_type": "code",
      "source": [
        "str1 = \"hello\"\n",
        "str2 = \",\"\n",
        "str3 = \"world\"\n",
        "print(str1[-1:])\n",
        "str1 = \"world\""
      ],
      "metadata": {
        "colab": {
          "base_uri": "https://localhost:8080/"
        },
        "id": "nSYEQDw6yoBQ",
        "outputId": "4611282b-f61b-4821-da19-c0cc193a23a0"
      },
      "execution_count": 68,
      "outputs": [
        {
          "output_type": "stream",
          "name": "stdout",
          "text": [
            "o\n"
          ]
        }
      ]
    },
    {
      "cell_type": "code",
      "source": [
        "example = \"snow world\"\n",
        "print(\"%s\" % example[4:7])"
      ],
      "metadata": {
        "colab": {
          "base_uri": "https://localhost:8080/"
        },
        "id": "LS4qKDszy13F",
        "outputId": "c0f21aa3-2a5a-4564-f906-91d89c78ea27"
      },
      "execution_count": 72,
      "outputs": [
        {
          "output_type": "stream",
          "name": "stdout",
          "text": [
            " wo\n"
          ]
        }
      ]
    },
    {
      "cell_type": "code",
      "source": [
        "print(max(\"joseph\"))"
      ],
      "metadata": {
        "colab": {
          "base_uri": "https://localhost:8080/"
        },
        "id": "4RzHhF8C0Rrs",
        "outputId": "3fae6ba0-8f1a-4c3f-e463-3c390e60d2f4"
      },
      "execution_count": 73,
      "outputs": [
        {
          "output_type": "stream",
          "name": "stdout",
          "text": [
            "s\n"
          ]
        }
      ]
    },
    {
      "cell_type": "code",
      "source": [
        "example = \"helen\"\n",
        "print(example.find(\"e\"))"
      ],
      "metadata": {
        "colab": {
          "base_uri": "https://localhost:8080/"
        },
        "id": "V7Q9tr0H0cPu",
        "outputId": "55ec505a-e9c0-42f4-a8fd-32311fb8ffc2"
      },
      "execution_count": 75,
      "outputs": [
        {
          "output_type": "stream",
          "name": "stdout",
          "text": [
            "1\n"
          ]
        }
      ]
    },
    {
      "cell_type": "code",
      "source": [
        "example=\"helloworld\"\n",
        "print(example[::-1].startswith(\"eh\"))"
      ],
      "metadata": {
        "colab": {
          "base_uri": "https://localhost:8080/"
        },
        "id": "hMWymfo70lS1",
        "outputId": "3b5d730e-efcf-46a7-a880-9a9466e911ed"
      },
      "execution_count": 76,
      "outputs": [
        {
          "output_type": "stream",
          "name": "stdout",
          "text": [
            "False\n"
          ]
        }
      ]
    },
    {
      "cell_type": "code",
      "source": [
        "s = \"\\t\\tWorld\\n\"\n",
        "print(s.strip())"
      ],
      "metadata": {
        "colab": {
          "base_uri": "https://localhost:8080/"
        },
        "id": "bEkGQ-Qn0--L",
        "outputId": "9d9c9bfa-aece-4c3d-bf6c-589df60014bd"
      },
      "execution_count": 78,
      "outputs": [
        {
          "output_type": "stream",
          "name": "stdout",
          "text": [
            "World\n"
          ]
        }
      ]
    },
    {
      "cell_type": "code",
      "source": [
        "print(\"hello\" +\"1+2+\"3\")"
      ],
      "metadata": {
        "colab": {
          "base_uri": "https://localhost:8080/",
          "height": 131
        },
        "id": "zGCrS_Pr1H1B",
        "outputId": "9d31748f-3f62-4dc5-b247-60728d67182d"
      },
      "execution_count": 79,
      "outputs": [
        {
          "output_type": "error",
          "ename": "SyntaxError",
          "evalue": "ignored",
          "traceback": [
            "\u001b[0;36m  File \u001b[0;32m\"<ipython-input-79-9b7d632623fa>\"\u001b[0;36m, line \u001b[0;32m1\u001b[0m\n\u001b[0;31m    print(\"hello\" +\"1+2+\"3\")\u001b[0m\n\u001b[0m                         ^\u001b[0m\n\u001b[0;31mSyntaxError\u001b[0m\u001b[0;31m:\u001b[0m invalid syntax\n"
          ]
        }
      ]
    },
    {
      "cell_type": "code",
      "source": [
        "word = 'clarusway'\n",
        "n = 3\n",
        "front = word[:n]\n",
        "back = word[n+1:]\n",
        "print(front+back)"
      ],
      "metadata": {
        "colab": {
          "base_uri": "https://localhost:8080/"
        },
        "id": "Zu1X6JKQ2cdy",
        "outputId": "d850d02b-b596-45ca-827c-e4c660333156"
      },
      "execution_count": 90,
      "outputs": [
        {
          "output_type": "stream",
          "name": "stdout",
          "text": [
            "clausway\n"
          ]
        }
      ]
    },
    {
      "cell_type": "code",
      "source": [
        "print(\"Clarusway, Clarusway, Clarusway,\")\n",
        "print(\"\\tClarusway, Clarusway, Clarusway,\")\n",
        "print(\"\\t\\tClarusway, Clarusway, Clarusway,\")"
      ],
      "metadata": {
        "colab": {
          "base_uri": "https://localhost:8080/"
        },
        "id": "JB_qvs3V4VqG",
        "outputId": "c1711e32-f3d0-49e9-a627-ae96ab80a729"
      },
      "execution_count": 101,
      "outputs": [
        {
          "output_type": "stream",
          "name": "stdout",
          "text": [
            "Clarusway, Clarusway, Clarusway,\n",
            "\tClarusway, Clarusway, Clarusway,\n",
            "\t\tClarusway, Clarusway, Clarusway,\n"
          ]
        }
      ]
    },
    {
      "cell_type": "code",
      "source": [
        "text = \"{}! I am a {} programmer and I {} Clarusway\".format(\"Hello\", \"new\", \"love\")\n",
        "print(text)"
      ],
      "metadata": {
        "colab": {
          "base_uri": "https://localhost:8080/"
        },
        "id": "A1slYbBRGwWI",
        "outputId": "7018d9c1-d696-455a-a3f5-f7ac53d10e7d"
      },
      "execution_count": 102,
      "outputs": [
        {
          "output_type": "stream",
          "name": "stdout",
          "text": [
            "Hello! I am a new programmer and I love Clarusway\n"
          ]
        }
      ]
    },
    {
      "cell_type": "markdown",
      "source": [
        "Hello! I am a new programmer and I love Clarusway."
      ],
      "metadata": {
        "id": "CT0vN0mlG0KF"
      }
    }
  ]
}